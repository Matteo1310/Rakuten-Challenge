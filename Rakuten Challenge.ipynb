{
 "cells": [
  {
   "cell_type": "raw",
   "id": "a80a5435",
   "metadata": {},
   "source": [
    "The goal of this exercise is to predict whether Rakuten customers will churn, i.e. identify the return on the Rakuten platform.\n",
    "\n",
    "1 First we performed some data cleaning\n",
    "2 Then we had new features and create graphs to detect insights in the data base\n",
    "3 We perfomed 2 models ( Logistic Regression and Random CLassifier)\n",
    "4 Finally we have analysed the efficiency of our results\n"
   ]
  },
  {
   "cell_type": "markdown",
   "id": "056b5e05",
   "metadata": {},
   "source": [
    "# Librairies"
   ]
  },
  {
   "cell_type": "code",
   "execution_count": 1,
   "id": "affb745a",
   "metadata": {},
   "outputs": [],
   "source": [
    "import pandas as pd\n",
    "import matplotlib.pyplot as plt\n",
    "import seaborn as sns\n",
    "from datetime import datetime, date\n",
    "import numpy as np\n",
    "import matplotlib.pyplot as plt\n",
    "\n",
    "from sklearn.preprocessing import LabelEncoder\n",
    "\n",
    "from sklearn import linear_model\n",
    "from sklearn.model_selection import train_test_split\n",
    "from sklearn.linear_model import LogisticRegression\n",
    "\n",
    "\n",
    "\n",
    "from sklearn.metrics import accuracy_score, precision_score, recall_score, f1_score, confusion_matrix, classification_report\n",
    "from mlxtend.plotting import plot_confusion_matrix\n",
    "\n",
    "from tensorflow.keras.layers import Dense\n",
    "from tensorflow.keras import Sequential\n",
    "\n",
    "from sklearn.ensemble import RandomForestClassifier"
   ]
  },
  {
   "cell_type": "markdown",
   "id": "e59c5602",
   "metadata": {},
   "source": [
    "# Load DataSet"
   ]
  },
  {
   "cell_type": "code",
   "execution_count": 2,
   "id": "730e0f57",
   "metadata": {},
   "outputs": [
    {
     "data": {
      "text/html": [
       "<div>\n",
       "<style scoped>\n",
       "    .dataframe tbody tr th:only-of-type {\n",
       "        vertical-align: middle;\n",
       "    }\n",
       "\n",
       "    .dataframe tbody tr th {\n",
       "        vertical-align: top;\n",
       "    }\n",
       "\n",
       "    .dataframe thead th {\n",
       "        text-align: right;\n",
       "    }\n",
       "</style>\n",
       "<table border=\"1\" class=\"dataframe\">\n",
       "  <thead>\n",
       "    <tr style=\"text-align: right;\">\n",
       "      <th></th>\n",
       "      <th>customerID</th>\n",
       "      <th>Customer Title</th>\n",
       "      <th>Customer Birth Date</th>\n",
       "      <th>Came From Paid Acq?</th>\n",
       "      <th># Months since first Purchase</th>\n",
       "      <th>InternetService</th>\n",
       "      <th>Has contacted CS</th>\n",
       "      <th>Has RakutenTV</th>\n",
       "      <th>PaymentMethod</th>\n",
       "      <th>Last Purchase Amount</th>\n",
       "      <th>Total Purchase Amount</th>\n",
       "      <th>Churn</th>\n",
       "    </tr>\n",
       "  </thead>\n",
       "  <tbody>\n",
       "    <tr>\n",
       "      <th>0</th>\n",
       "      <td>7590-VHVEG</td>\n",
       "      <td>Ms</td>\n",
       "      <td>12/12/1967</td>\n",
       "      <td>Yes</td>\n",
       "      <td>1.0</td>\n",
       "      <td>NaN</td>\n",
       "      <td>Yes</td>\n",
       "      <td>No</td>\n",
       "      <td>Credit card</td>\n",
       "      <td>29.85</td>\n",
       "      <td>29.85</td>\n",
       "      <td>No</td>\n",
       "    </tr>\n",
       "    <tr>\n",
       "      <th>1</th>\n",
       "      <td>5575-GNVDE</td>\n",
       "      <td>Miss</td>\n",
       "      <td>09/09/1963</td>\n",
       "      <td>No</td>\n",
       "      <td>34.0</td>\n",
       "      <td>NaN</td>\n",
       "      <td>No</td>\n",
       "      <td>No</td>\n",
       "      <td>Credit card</td>\n",
       "      <td>56.95</td>\n",
       "      <td>1889.5</td>\n",
       "      <td>No</td>\n",
       "    </tr>\n",
       "    <tr>\n",
       "      <th>2</th>\n",
       "      <td>3668-QPYBK</td>\n",
       "      <td>Mr</td>\n",
       "      <td>10/22/1961</td>\n",
       "      <td>No</td>\n",
       "      <td>2.0</td>\n",
       "      <td>NaN</td>\n",
       "      <td>No</td>\n",
       "      <td>No</td>\n",
       "      <td>Bank transfer (automatic)</td>\n",
       "      <td>53.85</td>\n",
       "      <td>108.15</td>\n",
       "      <td>Yes</td>\n",
       "    </tr>\n",
       "    <tr>\n",
       "      <th>3</th>\n",
       "      <td>7795-CFOCW</td>\n",
       "      <td>Miss</td>\n",
       "      <td>01/09/1978</td>\n",
       "      <td>No</td>\n",
       "      <td>45.0</td>\n",
       "      <td>NaN</td>\n",
       "      <td>Banana</td>\n",
       "      <td>No</td>\n",
       "      <td>Credit card</td>\n",
       "      <td>42.30</td>\n",
       "      <td>1840.75</td>\n",
       "      <td>No</td>\n",
       "    </tr>\n",
       "    <tr>\n",
       "      <th>4</th>\n",
       "      <td>9237-HQITU</td>\n",
       "      <td>Mr</td>\n",
       "      <td>01/12/1979</td>\n",
       "      <td>No</td>\n",
       "      <td>2.0</td>\n",
       "      <td>DSL</td>\n",
       "      <td>No</td>\n",
       "      <td>No</td>\n",
       "      <td>Credit card</td>\n",
       "      <td>70.70</td>\n",
       "      <td>151.65</td>\n",
       "      <td>Yes</td>\n",
       "    </tr>\n",
       "  </tbody>\n",
       "</table>\n",
       "</div>"
      ],
      "text/plain": [
       "   customerID Customer Title Customer Birth Date Came From Paid Acq?  \\\n",
       "0  7590-VHVEG             Ms          12/12/1967                 Yes   \n",
       "1  5575-GNVDE           Miss          09/09/1963                  No   \n",
       "2  3668-QPYBK             Mr          10/22/1961                  No   \n",
       "3  7795-CFOCW           Miss          01/09/1978                  No   \n",
       "4  9237-HQITU             Mr          01/12/1979                  No   \n",
       "\n",
       "   # Months since first Purchase InternetService Has contacted CS  \\\n",
       "0                            1.0             NaN              Yes   \n",
       "1                           34.0             NaN               No   \n",
       "2                            2.0             NaN               No   \n",
       "3                           45.0             NaN           Banana   \n",
       "4                            2.0             DSL               No   \n",
       "\n",
       "  Has RakutenTV              PaymentMethod  Last Purchase Amount  \\\n",
       "0            No                Credit card                 29.85   \n",
       "1            No                Credit card                 56.95   \n",
       "2            No  Bank transfer (automatic)                 53.85   \n",
       "3            No                Credit card                 42.30   \n",
       "4            No                Credit card                 70.70   \n",
       "\n",
       "  Total Purchase Amount Churn  \n",
       "0                 29.85    No  \n",
       "1                1889.5    No  \n",
       "2                108.15   Yes  \n",
       "3               1840.75    No  \n",
       "4                151.65   Yes  "
      ]
     },
     "execution_count": 2,
     "metadata": {},
     "output_type": "execute_result"
    }
   ],
   "source": [
    "df = pd.read_csv('/Users/matteo/Desktop/Rakuten/Churn_DS_Dataset.csv')\n",
    "df.head()"
   ]
  },
  {
   "cell_type": "code",
   "execution_count": 3,
   "id": "7cfde9b0",
   "metadata": {},
   "outputs": [
    {
     "name": "stdout",
     "output_type": "stream",
     "text": [
      "Length of df  7043\n",
      "No duplicates on customerID 7043 \n",
      "\n",
      "Sum Na in Columns \n",
      " customerID                          0\n",
      "Customer Title                      0\n",
      "Customer Birth Date                 0\n",
      "Came From Paid Acq?                 0\n",
      "# Months since first Purchase       0\n",
      "InternetService                  5221\n",
      "Has contacted CS                  480\n",
      "Has RakutenTV                       0\n",
      "PaymentMethod                     250\n",
      "Last Purchase Amount                0\n",
      "Total Purchase Amount               0\n",
      "Churn                               0\n",
      "dtype: int64\n"
     ]
    }
   ],
   "source": [
    "print(\"Length of df \",len(df))\n",
    "\n",
    "print(\"No duplicates on customerID\",len(df.drop_duplicates(subset=['customerID'])),\"\\n\")\n",
    "\n",
    "print(\"Sum Na in Columns \\n\",df.isna().sum())"
   ]
  },
  {
   "cell_type": "markdown",
   "id": "d5c3a159",
   "metadata": {},
   "source": [
    "# Creation Age Variable"
   ]
  },
  {
   "cell_type": "code",
   "execution_count": 4,
   "id": "9a8d2425",
   "metadata": {},
   "outputs": [
    {
     "data": {
      "text/html": [
       "<div>\n",
       "<style scoped>\n",
       "    .dataframe tbody tr th:only-of-type {\n",
       "        vertical-align: middle;\n",
       "    }\n",
       "\n",
       "    .dataframe tbody tr th {\n",
       "        vertical-align: top;\n",
       "    }\n",
       "\n",
       "    .dataframe thead th {\n",
       "        text-align: right;\n",
       "    }\n",
       "</style>\n",
       "<table border=\"1\" class=\"dataframe\">\n",
       "  <thead>\n",
       "    <tr style=\"text-align: right;\">\n",
       "      <th></th>\n",
       "      <th>customerID</th>\n",
       "      <th>Customer Title</th>\n",
       "      <th>Customer Birth Date</th>\n",
       "      <th>Came From Paid Acq?</th>\n",
       "      <th># Months since first Purchase</th>\n",
       "      <th>InternetService</th>\n",
       "      <th>Has contacted CS</th>\n",
       "      <th>Has RakutenTV</th>\n",
       "      <th>PaymentMethod</th>\n",
       "      <th>Last Purchase Amount</th>\n",
       "      <th>Total Purchase Amount</th>\n",
       "      <th>Churn</th>\n",
       "      <th>Age</th>\n",
       "    </tr>\n",
       "  </thead>\n",
       "  <tbody>\n",
       "    <tr>\n",
       "      <th>0</th>\n",
       "      <td>7590-VHVEG</td>\n",
       "      <td>Ms</td>\n",
       "      <td>12/12/1967</td>\n",
       "      <td>Yes</td>\n",
       "      <td>1.0</td>\n",
       "      <td>NaN</td>\n",
       "      <td>Yes</td>\n",
       "      <td>No</td>\n",
       "      <td>Credit card</td>\n",
       "      <td>29.85</td>\n",
       "      <td>29.85</td>\n",
       "      <td>No</td>\n",
       "      <td>54</td>\n",
       "    </tr>\n",
       "    <tr>\n",
       "      <th>1</th>\n",
       "      <td>5575-GNVDE</td>\n",
       "      <td>Miss</td>\n",
       "      <td>09/09/1963</td>\n",
       "      <td>No</td>\n",
       "      <td>34.0</td>\n",
       "      <td>NaN</td>\n",
       "      <td>No</td>\n",
       "      <td>No</td>\n",
       "      <td>Credit card</td>\n",
       "      <td>56.95</td>\n",
       "      <td>1889.5</td>\n",
       "      <td>No</td>\n",
       "      <td>58</td>\n",
       "    </tr>\n",
       "    <tr>\n",
       "      <th>2</th>\n",
       "      <td>3668-QPYBK</td>\n",
       "      <td>Mr</td>\n",
       "      <td>10/22/1961</td>\n",
       "      <td>No</td>\n",
       "      <td>2.0</td>\n",
       "      <td>NaN</td>\n",
       "      <td>No</td>\n",
       "      <td>No</td>\n",
       "      <td>Bank transfer (automatic)</td>\n",
       "      <td>53.85</td>\n",
       "      <td>108.15</td>\n",
       "      <td>Yes</td>\n",
       "      <td>60</td>\n",
       "    </tr>\n",
       "  </tbody>\n",
       "</table>\n",
       "</div>"
      ],
      "text/plain": [
       "   customerID Customer Title Customer Birth Date Came From Paid Acq?  \\\n",
       "0  7590-VHVEG             Ms          12/12/1967                 Yes   \n",
       "1  5575-GNVDE           Miss          09/09/1963                  No   \n",
       "2  3668-QPYBK             Mr          10/22/1961                  No   \n",
       "\n",
       "   # Months since first Purchase InternetService Has contacted CS  \\\n",
       "0                            1.0             NaN              Yes   \n",
       "1                           34.0             NaN               No   \n",
       "2                            2.0             NaN               No   \n",
       "\n",
       "  Has RakutenTV              PaymentMethod  Last Purchase Amount  \\\n",
       "0            No                Credit card                 29.85   \n",
       "1            No                Credit card                 56.95   \n",
       "2            No  Bank transfer (automatic)                 53.85   \n",
       "\n",
       "  Total Purchase Amount Churn  Age  \n",
       "0                 29.85    No   54  \n",
       "1                1889.5    No   58  \n",
       "2                108.15   Yes   60  "
      ]
     },
     "execution_count": 4,
     "metadata": {},
     "output_type": "execute_result"
    }
   ],
   "source": [
    "# Function to substract Today's date and Birth Date \n",
    "def age(born):\n",
    "    born = datetime.strptime(born, \"%m/%d/%Y\").date()\n",
    "    today = date.today()\n",
    "    return today.year - born.year - ((today.month, \n",
    "                                      today.day) < (born.month,born.day))\n",
    "  \n",
    "df['Age'] = df['Customer Birth Date'].apply(age)\n",
    "\n",
    "df.head(3)"
   ]
  },
  {
   "cell_type": "markdown",
   "id": "16a7a6f1",
   "metadata": {},
   "source": [
    "# Remove not important Columns"
   ]
  },
  {
   "cell_type": "code",
   "execution_count": 5,
   "id": "caf9a8c7",
   "metadata": {},
   "outputs": [
    {
     "data": {
      "text/plain": [
       "Index(['Customer Title', 'Came From Paid Acq?',\n",
       "       '# Months since first Purchase', 'Has contacted CS', 'Has RakutenTV',\n",
       "       'PaymentMethod', 'Last Purchase Amount', 'Total Purchase Amount',\n",
       "       'Churn', 'Age'],\n",
       "      dtype='object')"
      ]
     },
     "execution_count": 5,
     "metadata": {},
     "output_type": "execute_result"
    }
   ],
   "source": [
    "#Customer Birth Date can be deleted because we juste created the Age Column\n",
    "#Internet Service -> we delete it (because too many Na / can't be used)\n",
    "#Customer Id not important (Since All ID are uniques)\n",
    "\n",
    "df1 = df.drop(columns = [\"customerID\",\"Customer Birth Date\", \"InternetService\"])\n",
    "df1.columns"
   ]
  },
  {
   "cell_type": "markdown",
   "id": "b35b71b0",
   "metadata": {},
   "source": [
    "# Distribution of  Various Columns (Categorical Variables)"
   ]
  },
  {
   "cell_type": "code",
   "execution_count": 6,
   "id": "eb064bef",
   "metadata": {},
   "outputs": [
    {
     "data": {
      "text/plain": [
       "Text(0.5, 1.0, 'Répartition des Churn')"
      ]
     },
     "execution_count": 6,
     "metadata": {},
     "output_type": "execute_result"
    },
    {
     "data": {
      "image/png": "[encoded data removed]",
      "text/plain": [
       "<Figure size 432x288 with 1 Axes>"
      ]
     },
     "metadata": {
      "needs_background": "light"
     },
     "output_type": "display_data"
    },
    {
     "data": {
      "image/png": "[encoded data removed]",
      "text/plain": [
       "<Figure size 432x288 with 1 Axes>"
      ]
     },
     "metadata": {
      "needs_background": "light"
     },
     "output_type": "display_data"
    }
   ],
   "source": [
    "# Value Counts for each type of Customer Title\n",
    "# We observe different Titles that are in reality the Same MS=Miss=Ms. / Mr # Mr in our Data Set\n",
    "df_title = df1[\"Customer Title\"].value_counts()\n",
    "ax = df_title.plot.bar(rot=0)\n",
    "plt.title(\"Ditribution of Customers Title\")\n",
    "\n",
    "# Way less Churn than no Churn\n",
    "fig, axs = plt.subplots()\n",
    "df1['Churn'].value_counts().plot.bar(rot=0)\n",
    "plt.title(\"Répartition des Churn\")"
   ]
  },
  {
   "cell_type": "code",
   "execution_count": 7,
   "id": "a253b4a9",
   "metadata": {},
   "outputs": [
    {
     "name": "stdout",
     "output_type": "stream",
     "text": [
      "Number of undefined CS (Banana) : 176\n"
     ]
    },
    {
     "data": {
      "image/png": "[encoded data removed]",
      "text/plain": [
       "<Figure size 432x288 with 1 Axes>"
      ]
     },
     "metadata": {
      "needs_background": "light"
     },
     "output_type": "display_data"
    },
    {
     "data": {
      "image/png": "[encoded data removed]",
      "text/plain": [
       "<Figure size 432x288 with 1 Axes>"
      ]
     },
     "metadata": {
      "needs_background": "light"
     },
     "output_type": "display_data"
    }
   ],
   "source": [
    "# Half Customers Comming from Paid ACQ\n",
    "df_Paid_ACQ = df1[\"Came From Paid Acq?\"].value_counts()\n",
    "ax = df_Paid_ACQ.plot.bar(rot=0)\n",
    "plt.title(\"Customers Comming from Paid Acquisition\")\n",
    "\n",
    "# Half Customers has contacted CS\n",
    "# Variable not identified (Banana) -> I am going to remove those rows\n",
    "fig, axs = plt.subplots()\n",
    "df1['Has contacted CS'].value_counts().plot.bar(rot=0)\n",
    "plt.title(\"Customers who contacted CS\")\n",
    "\n",
    "print(\"Number of undefined CS (Banana) :\",len(df1[df1[\"Has contacted CS\"] == \"Banana\"]))"
   ]
  },
  {
   "cell_type": "code",
   "execution_count": 8,
   "id": "ab192147",
   "metadata": {},
   "outputs": [
    {
     "data": {
      "text/plain": [
       "Text(0.5, 1.0, 'Different Methods of Customer Payments')"
      ]
     },
     "execution_count": 8,
     "metadata": {},
     "output_type": "execute_result"
    },
    {
     "data": {
      "image/png": "[encoded data removed]",
      "text/plain": [
       "<Figure size 432x288 with 1 Axes>"
      ]
     },
     "metadata": {
      "needs_background": "light"
     },
     "output_type": "display_data"
    },
    {
     "data": {
      "image/png": "[encoded data removed]",
      "text/plain": [
       "<Figure size 432x288 with 1 Axes>"
      ]
     },
     "metadata": {
      "needs_background": "light"
     },
     "output_type": "display_data"
    }
   ],
   "source": [
    "# ~ Same Number of Customers With & Without Rakuten TV\n",
    "# Unidentified category \"No internet Service\"\n",
    "df_RakutenTV = df1[\"Has RakutenTV\"].value_counts()\n",
    "ax = df_RakutenTV.plot.bar(rot=0)\n",
    "plt.title(\"Customers Having RaKuten TV\")\n",
    "\n",
    "\n",
    "\n",
    "# Customers usually pay with Credit Cards\n",
    "# 250 Missing Values -> we transform Na to Credit Cards (because it is the Most Used Payment)\n",
    "\n",
    "fig, axs = plt.subplots()\n",
    "df1['PaymentMethod'].value_counts().plot.bar(rot=0)\n",
    "plt.title(\"Different Methods of Customer Payments\")\n"
   ]
  },
  {
   "cell_type": "markdown",
   "id": "7086343b",
   "metadata": {},
   "source": [
    "# Distributions of Numerical Variables"
   ]
  },
  {
   "cell_type": "code",
   "execution_count": 9,
   "id": "8f2b1696",
   "metadata": {},
   "outputs": [
    {
     "data": {
      "image/png": "[encoded data removed]",
      "text/plain": [
       "<Figure size 432x288 with 1 Axes>"
      ]
     },
     "metadata": {
      "needs_background": "light"
     },
     "output_type": "display_data"
    },
    {
     "data": {
      "image/png": "[encoded data removed]",
      "text/plain": [
       "<Figure size 432x288 with 1 Axes>"
      ]
     },
     "metadata": {
      "needs_background": "light"
     },
     "output_type": "display_data"
    },
    {
     "data": {
      "image/png": "[encoded data removed]",
      "text/plain": [
       "<Figure size 432x288 with 1 Axes>"
      ]
     },
     "metadata": {
      "needs_background": "light"
     },
     "output_type": "display_data"
    }
   ],
   "source": [
    "# we detect outliers (0,120 years old) -> we are going to remove those outliers ~75 rows manually\n",
    "sns.histplot(df1['Age'])\n",
    "plt.title(\"Customers Age Distrition\")\n",
    "plt.show()\n",
    "\n",
    "\n",
    "sns.histplot(df1['# Months since first Purchase'])\n",
    "plt.title(\"Months since first Purchase\")\n",
    "plt.show()\n",
    "\n",
    "# More little expense than big expense\n",
    "sns.histplot(df1['Last Purchase Amount'])\n",
    "plt.title(\"Last Purchase Amount\")\n",
    "plt.show()"
   ]
  },
  {
   "cell_type": "markdown",
   "id": "7a426f90",
   "metadata": {},
   "source": [
    "# Changing Genders variables"
   ]
  },
  {
   "cell_type": "code",
   "execution_count": 10,
   "id": "afec85c8",
   "metadata": {},
   "outputs": [
    {
     "name": "stdout",
     "output_type": "stream",
     "text": [
      "Different type of categories {'Mr', 'Ms', 'Ms.', 'Miss', 'Mr '} \n",
      "\n"
     ]
    },
    {
     "data": {
      "text/plain": [
       "Text(0.5, 1.0, 'Ditribution of Customers Title')"
      ]
     },
     "execution_count": 10,
     "metadata": {},
     "output_type": "execute_result"
    },
    {
     "data": {
      "image/png": "[encoded data removed]",
      "text/plain": [
       "<Figure size 432x288 with 1 Axes>"
      ]
     },
     "metadata": {
      "needs_background": "light"
     },
     "output_type": "display_data"
    }
   ],
   "source": [
    "print(\"Different type of categories\",set(list(df1[\"Customer Title\"])),\"\\n\")\n",
    "\n",
    "# Replace Categories inside genders\n",
    "df1[\"Gender\"] =df1[\"Customer Title\"].replace({'Miss': \"W\" , 'Mr': \"M\", 'Mr ': 'M','Ms': \"W\" ,'Ms.': \"W\" })\n",
    "df1 = df1.drop(columns = [\"Customer Title\"])\n",
    "\n",
    "df_Gender = df1[\"Gender\"].value_counts()\n",
    "ax = df_Gender.plot.bar(rot=0)\n",
    "plt.title(\"Ditribution of Customers Title\")"
   ]
  },
  {
   "cell_type": "markdown",
   "id": "701a7713",
   "metadata": {},
   "source": [
    "# Delete Age Outliers"
   ]
  },
  {
   "cell_type": "code",
   "execution_count": 11,
   "id": "1dc10f79",
   "metadata": {},
   "outputs": [
    {
     "data": {
      "image/png": "[encoded data removed]",
      "text/plain": [
       "<Figure size 432x288 with 1 Axes>"
      ]
     },
     "metadata": {
      "needs_background": "light"
     },
     "output_type": "display_data"
    }
   ],
   "source": [
    "# Age filter \n",
    "\n",
    "df2 = df1[df1[\"Age\"] > 13]\n",
    "df2 = df2[df2[\"Age\"] < 90]\n",
    "\n",
    "# Histplot Age without outliers\n",
    "sns.histplot(df2['Age'])\n",
    "plt.title(\"Customers Age Distrition\")\n",
    "plt.show()"
   ]
  },
  {
   "cell_type": "markdown",
   "id": "32902a04",
   "metadata": {},
   "source": [
    "# Remove Bananas in CS & Changing NA payments to Cards payment"
   ]
  },
  {
   "cell_type": "code",
   "execution_count": 12,
   "id": "90dd04b1",
   "metadata": {
    "scrolled": true
   },
   "outputs": [],
   "source": [
    "# We chose to fill Na by No (because we might have a trace otherwise)\n",
    "\n",
    "df2[\"Has contacted CS\"] = df2[\"Has contacted CS\"].fillna(\"No\")\n",
    "\n",
    "# We chose to replace Banana by Yes (maybe make sence because something has been reported)\n",
    "df2[\"Has contacted CS\"] = df2[\"Has contacted CS\"].replace({\"Banana\":\"Yes\"})\n",
    "\n",
    "# Converting Na to Credit Card\n",
    "df2[\"PaymentMethod\"] = df2[\"PaymentMethod\"].fillna(\"Credit card\")"
   ]
  },
  {
   "cell_type": "markdown",
   "id": "18d807c9",
   "metadata": {},
   "source": [
    "# Creation of First Purshase variable "
   ]
  },
  {
   "cell_type": "code",
   "execution_count": 13,
   "id": "25595c1e",
   "metadata": {
    "scrolled": true
   },
   "outputs": [],
   "source": [
    "# There are white spaces Values in column : Total Purchase Amount\n",
    "def isfloat(value):\n",
    "    try:\n",
    "        float(value)\n",
    "        return True\n",
    "    except ValueError:\n",
    "        return False\n",
    "\n",
    "df2['Tot Purshas Float (Bool)'] = df2['Total Purchase Amount'].apply(isfloat)\n",
    "df2 = df2[df2[\"Tot Purshas Float (Bool)\"]!= False] # We remove rows with with spaces ~ 15 \n"
   ]
  },
  {
   "cell_type": "code",
   "execution_count": 14,
   "id": "1a129c55",
   "metadata": {
    "scrolled": true
   },
   "outputs": [],
   "source": [
    "# We convert the \"Total Purchase Amount\" and \"Last Purchase Amount to Float\"\n",
    "\n",
    "df2[\"Total Purchase Amount\"] = df2[\"Total Purchase Amount\"].astype(\"float64\")\n",
    "df2[\"Last Purchase Amount\"] = df2[\"Last Purchase Amount\"].astype(\"float64\")"
   ]
  },
  {
   "cell_type": "code",
   "execution_count": 15,
   "id": "3e2251e0",
   "metadata": {},
   "outputs": [
    {
     "data": {
      "text/html": [
       "<div>\n",
       "<style scoped>\n",
       "    .dataframe tbody tr th:only-of-type {\n",
       "        vertical-align: middle;\n",
       "    }\n",
       "\n",
       "    .dataframe tbody tr th {\n",
       "        vertical-align: top;\n",
       "    }\n",
       "\n",
       "    .dataframe thead th {\n",
       "        text-align: right;\n",
       "    }\n",
       "</style>\n",
       "<table border=\"1\" class=\"dataframe\">\n",
       "  <thead>\n",
       "    <tr style=\"text-align: right;\">\n",
       "      <th></th>\n",
       "      <th>Came From Paid Acq?</th>\n",
       "      <th># Months since first Purchase</th>\n",
       "      <th>Has contacted CS</th>\n",
       "      <th>Has RakutenTV</th>\n",
       "      <th>PaymentMethod</th>\n",
       "      <th>Last Purchase Amount</th>\n",
       "      <th>Total Purchase Amount</th>\n",
       "      <th>Churn</th>\n",
       "      <th>Age</th>\n",
       "      <th>Gender</th>\n",
       "      <th>First Purshase</th>\n",
       "    </tr>\n",
       "  </thead>\n",
       "  <tbody>\n",
       "    <tr>\n",
       "      <th>0</th>\n",
       "      <td>Yes</td>\n",
       "      <td>1.0</td>\n",
       "      <td>Yes</td>\n",
       "      <td>No</td>\n",
       "      <td>Credit card</td>\n",
       "      <td>29.85</td>\n",
       "      <td>29.85</td>\n",
       "      <td>No</td>\n",
       "      <td>54</td>\n",
       "      <td>W</td>\n",
       "      <td>Yes</td>\n",
       "    </tr>\n",
       "    <tr>\n",
       "      <th>1</th>\n",
       "      <td>No</td>\n",
       "      <td>34.0</td>\n",
       "      <td>No</td>\n",
       "      <td>No</td>\n",
       "      <td>Credit card</td>\n",
       "      <td>56.95</td>\n",
       "      <td>1889.50</td>\n",
       "      <td>No</td>\n",
       "      <td>58</td>\n",
       "      <td>W</td>\n",
       "      <td>No</td>\n",
       "    </tr>\n",
       "    <tr>\n",
       "      <th>2</th>\n",
       "      <td>No</td>\n",
       "      <td>2.0</td>\n",
       "      <td>No</td>\n",
       "      <td>No</td>\n",
       "      <td>Bank transfer (automatic)</td>\n",
       "      <td>53.85</td>\n",
       "      <td>108.15</td>\n",
       "      <td>Yes</td>\n",
       "      <td>60</td>\n",
       "      <td>M</td>\n",
       "      <td>No</td>\n",
       "    </tr>\n",
       "    <tr>\n",
       "      <th>3</th>\n",
       "      <td>No</td>\n",
       "      <td>45.0</td>\n",
       "      <td>Yes</td>\n",
       "      <td>No</td>\n",
       "      <td>Credit card</td>\n",
       "      <td>42.30</td>\n",
       "      <td>1840.75</td>\n",
       "      <td>No</td>\n",
       "      <td>43</td>\n",
       "      <td>W</td>\n",
       "      <td>No</td>\n",
       "    </tr>\n",
       "    <tr>\n",
       "      <th>4</th>\n",
       "      <td>No</td>\n",
       "      <td>2.0</td>\n",
       "      <td>No</td>\n",
       "      <td>No</td>\n",
       "      <td>Credit card</td>\n",
       "      <td>70.70</td>\n",
       "      <td>151.65</td>\n",
       "      <td>Yes</td>\n",
       "      <td>42</td>\n",
       "      <td>M</td>\n",
       "      <td>No</td>\n",
       "    </tr>\n",
       "  </tbody>\n",
       "</table>\n",
       "</div>"
      ],
      "text/plain": [
       "  Came From Paid Acq?  # Months since first Purchase Has contacted CS  \\\n",
       "0                 Yes                            1.0              Yes   \n",
       "1                  No                           34.0               No   \n",
       "2                  No                            2.0               No   \n",
       "3                  No                           45.0              Yes   \n",
       "4                  No                            2.0               No   \n",
       "\n",
       "  Has RakutenTV              PaymentMethod  Last Purchase Amount  \\\n",
       "0            No                Credit card                 29.85   \n",
       "1            No                Credit card                 56.95   \n",
       "2            No  Bank transfer (automatic)                 53.85   \n",
       "3            No                Credit card                 42.30   \n",
       "4            No                Credit card                 70.70   \n",
       "\n",
       "   Total Purchase Amount Churn  Age Gender First Purshase  \n",
       "0                  29.85    No   54      W            Yes  \n",
       "1                1889.50    No   58      W             No  \n",
       "2                 108.15   Yes   60      M             No  \n",
       "3                1840.75    No   43      W             No  \n",
       "4                 151.65   Yes   42      M             No  "
      ]
     },
     "execution_count": 15,
     "metadata": {},
     "output_type": "execute_result"
    }
   ],
   "source": [
    "# Simple substraction between two columns\n",
    "df2[\"Difference\"] = df2[\"Total Purchase Amount\"].astype(\"float64\") - df2[\"Last Purchase Amount\"].astype(\"float64\")\n",
    "\n",
    "# If the Difference equal 0 means user only make 1 purshase else more than One (we transform in Binary)\n",
    "def firstpurshase(value):\n",
    "    if value>0:\n",
    "        return (\"No\")\n",
    "    else:\n",
    "        return (\"Yes\")\n",
    "\n",
    "# We apply our function above\n",
    "df2[\"First Purshase\"] = df2[\"Difference\"].apply(firstpurshase)\n",
    "\n",
    "# we remove columns not needed\n",
    "df3 = df2.drop(columns = [\"Tot Purshas Float (Bool)\",\"Difference\"])\n",
    "\n",
    "df3.head()"
   ]
  },
  {
   "cell_type": "markdown",
   "id": "2b07afed",
   "metadata": {},
   "source": [
    "# Better Graph = Pie Chart Graph"
   ]
  },
  {
   "cell_type": "code",
   "execution_count": 16,
   "id": "4d63dbec",
   "metadata": {
    "scrolled": false
   },
   "outputs": [
    {
     "data": {
      "text/plain": [
       "Text(0.5, 1.0, 'First Purshase Custommers')"
      ]
     },
     "execution_count": 16,
     "metadata": {},
     "output_type": "execute_result"
    },
    {
     "data": {
      "image/png": "[encoded data removed]",
      "text/plain": [
       "<Figure size 432x288 with 1 Axes>"
      ]
     },
     "metadata": {
      "needs_background": "light"
     },
     "output_type": "display_data"
    }
   ],
   "source": [
    "# For most of the customers it is not their first purshase\n",
    "\n",
    "df_first_purchase = df3[\"First Purshase\"].value_counts()\n",
    "ax = df_first_purchase.plot.bar(rot=0)\n",
    "plt.title(\"First Purshase Custommers\")"
   ]
  },
  {
   "cell_type": "code",
   "execution_count": 17,
   "id": "4ff128e3",
   "metadata": {
    "scrolled": true
   },
   "outputs": [
    {
     "name": "stdout",
     "output_type": "stream",
     "text": [
      "Yes    379\n",
      "No     230\n",
      "Name: Churn, dtype: int64\n"
     ]
    },
    {
     "data": {
      "image/png": "[encoded data removed]",
      "text/plain": [
       "<Figure size 432x288 with 1 Axes>"
      ]
     },
     "metadata": {},
     "output_type": "display_data"
    }
   ],
   "source": [
    "# here i m trying to determine if customers who made only one purshase churn just after\n",
    "# we can observe that Customers making only one Purshase churn in 62.2% of the cases this is a lot\n",
    "# idea : improve the loyalty program of the first purshase for new customers\n",
    "\n",
    "df_first_purshase_1 = df3[df3[\"First Purshase\"] == \"Yes\"]\n",
    "\n",
    "print(df_first_purshase_1[\"Churn\"].value_counts())\n",
    "\n",
    "fig1, ax1 = plt.subplots()\n",
    "ax1.pie(df_first_purshase_1[\"Churn\"].value_counts(), labels=[\"Yes\",'No'], autopct='%1.1f%%',\n",
    "        shadow=True, startangle=90)\n",
    "ax1.axis('equal')  # Equal aspect ratio ensures that pie is drawn as a circle.\n",
    "\n",
    "plt.show()"
   ]
  },
  {
   "cell_type": "code",
   "execution_count": 18,
   "id": "51739eab",
   "metadata": {},
   "outputs": [
    {
     "data": {
      "image/png": "[encoded data removed]",
      "text/plain": [
       "<Figure size 864x504 with 1 Axes>"
      ]
     },
     "metadata": {
      "needs_background": "light"
     },
     "output_type": "display_data"
    }
   ],
   "source": [
    "# Half of churning customers is in the first 10 months for both genders\n",
    "# Maybe offer them personlyse promotions to avoid churning.\n",
    "# no disparity between genders\n",
    "plt.figure(figsize=(12, 7))\n",
    "ax = sns.boxplot(x=\"Gender\", y=\"# Months since first Purchase\", hue=\"Churn\",data=df3, palette=\"Set3\")"
   ]
  },
  {
   "cell_type": "code",
   "execution_count": 19,
   "id": "a2f599fd",
   "metadata": {},
   "outputs": [
    {
     "data": {
      "image/png": "[encoded data removed]",
      "text/plain": [
       "<Figure size 864x504 with 1 Axes>"
      ]
     },
     "metadata": {
      "needs_background": "light"
     },
     "output_type": "display_data"
    }
   ],
   "source": [
    "# For both churning genders : they spend less money on the platform ~300 \n",
    "# ~ 20 % of churning customers spend a least 1500 euros (if it is not their fist purschase they might be disappointed with the delivery)\n",
    "# we could see if churnig customers that spend more money has contacted the Custommer Service (hypothese) and then maybe get the sentiment analysis of the message delivred to CS\n",
    "\n",
    "plt.figure(figsize=(12, 7))\n",
    "ax = sns.boxplot(x=\"Gender\", y=\"Total Purchase Amount\", hue=\"Churn\",data=df3, palette=\"Set3\")"
   ]
  },
  {
   "cell_type": "markdown",
   "id": "899f2740",
   "metadata": {},
   "source": [
    "# Replace Catégotrical variables"
   ]
  },
  {
   "cell_type": "code",
   "execution_count": 20,
   "id": "67d250c8",
   "metadata": {},
   "outputs": [],
   "source": [
    "# Replace in concerned Columns No by 0 and Yes by 1\n",
    "\n",
    "df3['Churn'] = df3['Churn'].replace({'No': 0 , 'Yes': 1})\n",
    "df3['Has contacted CS'] = df3['Has contacted CS'].replace({'No': 0 , 'Yes': 1})\n",
    "df3['Has RakutenTV'] = df3['Has RakutenTV'].replace({'No': 0 , 'Yes': 1, 'No internet service': 2})\n",
    "df3['Came From Paid Acq?'] = df3['Came From Paid Acq?'].replace({'No': 0 , 'Yes': 1})\n",
    "df3['Gender'] = df3['Gender'].replace({'M': 0 , 'W': 1})\n",
    "df3['First Purshase'] = df3['First Purshase'].replace({'No': 0 , 'Yes': 1})\n",
    "df3[\"Has contacted CS\"]= df3[\"Has contacted CS\"].replace({'No': 0 , 'Yes': 1})"
   ]
  },
  {
   "cell_type": "code",
   "execution_count": 21,
   "id": "2cbcffe3",
   "metadata": {},
   "outputs": [],
   "source": [
    "# One hot encoder -> transform different categories into numbers 0,1,2\n",
    "encoder = LabelEncoder()\n",
    "df3[\"PaymentMethod\"] = encoder.fit_transform(df3[\"PaymentMethod\"])"
   ]
  },
  {
   "cell_type": "code",
   "execution_count": 22,
   "id": "be180c4c",
   "metadata": {},
   "outputs": [
    {
     "data": {
      "text/html": [
       "<div>\n",
       "<style scoped>\n",
       "    .dataframe tbody tr th:only-of-type {\n",
       "        vertical-align: middle;\n",
       "    }\n",
       "\n",
       "    .dataframe tbody tr th {\n",
       "        vertical-align: top;\n",
       "    }\n",
       "\n",
       "    .dataframe thead th {\n",
       "        text-align: right;\n",
       "    }\n",
       "</style>\n",
       "<table border=\"1\" class=\"dataframe\">\n",
       "  <thead>\n",
       "    <tr style=\"text-align: right;\">\n",
       "      <th></th>\n",
       "      <th>Came From Paid Acq?</th>\n",
       "      <th># Months since first Purchase</th>\n",
       "      <th>Has contacted CS</th>\n",
       "      <th>Has RakutenTV</th>\n",
       "      <th>PaymentMethod</th>\n",
       "      <th>Last Purchase Amount</th>\n",
       "      <th>Total Purchase Amount</th>\n",
       "      <th>Churn</th>\n",
       "      <th>Age</th>\n",
       "      <th>Gender</th>\n",
       "      <th>First Purshase</th>\n",
       "    </tr>\n",
       "  </thead>\n",
       "  <tbody>\n",
       "    <tr>\n",
       "      <th>0</th>\n",
       "      <td>1</td>\n",
       "      <td>1.0</td>\n",
       "      <td>1</td>\n",
       "      <td>0</td>\n",
       "      <td>1</td>\n",
       "      <td>29.85</td>\n",
       "      <td>29.85</td>\n",
       "      <td>0</td>\n",
       "      <td>54</td>\n",
       "      <td>1</td>\n",
       "      <td>1</td>\n",
       "    </tr>\n",
       "    <tr>\n",
       "      <th>1</th>\n",
       "      <td>0</td>\n",
       "      <td>34.0</td>\n",
       "      <td>0</td>\n",
       "      <td>0</td>\n",
       "      <td>1</td>\n",
       "      <td>56.95</td>\n",
       "      <td>1889.50</td>\n",
       "      <td>0</td>\n",
       "      <td>58</td>\n",
       "      <td>1</td>\n",
       "      <td>0</td>\n",
       "    </tr>\n",
       "    <tr>\n",
       "      <th>2</th>\n",
       "      <td>0</td>\n",
       "      <td>2.0</td>\n",
       "      <td>0</td>\n",
       "      <td>0</td>\n",
       "      <td>0</td>\n",
       "      <td>53.85</td>\n",
       "      <td>108.15</td>\n",
       "      <td>1</td>\n",
       "      <td>60</td>\n",
       "      <td>0</td>\n",
       "      <td>0</td>\n",
       "    </tr>\n",
       "    <tr>\n",
       "      <th>3</th>\n",
       "      <td>0</td>\n",
       "      <td>45.0</td>\n",
       "      <td>1</td>\n",
       "      <td>0</td>\n",
       "      <td>1</td>\n",
       "      <td>42.30</td>\n",
       "      <td>1840.75</td>\n",
       "      <td>0</td>\n",
       "      <td>43</td>\n",
       "      <td>1</td>\n",
       "      <td>0</td>\n",
       "    </tr>\n",
       "    <tr>\n",
       "      <th>4</th>\n",
       "      <td>0</td>\n",
       "      <td>2.0</td>\n",
       "      <td>0</td>\n",
       "      <td>0</td>\n",
       "      <td>1</td>\n",
       "      <td>70.70</td>\n",
       "      <td>151.65</td>\n",
       "      <td>1</td>\n",
       "      <td>42</td>\n",
       "      <td>0</td>\n",
       "      <td>0</td>\n",
       "    </tr>\n",
       "  </tbody>\n",
       "</table>\n",
       "</div>"
      ],
      "text/plain": [
       "   Came From Paid Acq?  # Months since first Purchase  Has contacted CS  \\\n",
       "0                    1                            1.0                 1   \n",
       "1                    0                           34.0                 0   \n",
       "2                    0                            2.0                 0   \n",
       "3                    0                           45.0                 1   \n",
       "4                    0                            2.0                 0   \n",
       "\n",
       "   Has RakutenTV  PaymentMethod  Last Purchase Amount  Total Purchase Amount  \\\n",
       "0              0              1                 29.85                  29.85   \n",
       "1              0              1                 56.95                1889.50   \n",
       "2              0              0                 53.85                 108.15   \n",
       "3              0              1                 42.30                1840.75   \n",
       "4              0              1                 70.70                 151.65   \n",
       "\n",
       "   Churn  Age  Gender  First Purshase  \n",
       "0      0   54       1               1  \n",
       "1      0   58       1               0  \n",
       "2      1   60       0               0  \n",
       "3      0   43       1               0  \n",
       "4      1   42       0               0  "
      ]
     },
     "execution_count": 22,
     "metadata": {},
     "output_type": "execute_result"
    }
   ],
   "source": [
    "df3.head()"
   ]
  },
  {
   "cell_type": "markdown",
   "id": "92629918",
   "metadata": {},
   "source": [
    "# Correlation Matrix "
   ]
  },
  {
   "cell_type": "code",
   "execution_count": 23,
   "id": "1d51d172",
   "metadata": {
    "scrolled": true
   },
   "outputs": [
    {
     "name": "stderr",
     "output_type": "stream",
     "text": [
      "/var/folders/vs/v4q4q5m97150k7z9stfc86l80000gn/T/ipykernel_14706/3892428467.py:20: FutureWarning: this method is deprecated in favour of `Styler.format(precision=..)`\n",
      "  (corr\n"
     ]
    },
    {
     "data": {
      "text/html": [
       "<style type=\"text/css\">\n",
       "#T_3324b_row0_col0, #T_3324b_row0_col1, #T_3324b_row0_col2, #T_3324b_row0_col3, #T_3324b_row0_col4, #T_3324b_row0_col5, #T_3324b_row0_col6, #T_3324b_row0_col7, #T_3324b_row0_col8, #T_3324b_row0_col9, #T_3324b_row0_col10, #T_3324b_row1_col1, #T_3324b_row1_col2, #T_3324b_row1_col3, #T_3324b_row1_col4, #T_3324b_row1_col5, #T_3324b_row1_col6, #T_3324b_row1_col7, #T_3324b_row1_col8, #T_3324b_row1_col9, #T_3324b_row1_col10, #T_3324b_row2_col2, #T_3324b_row2_col3, #T_3324b_row2_col4, #T_3324b_row2_col5, #T_3324b_row2_col6, #T_3324b_row2_col7, #T_3324b_row2_col8, #T_3324b_row2_col9, #T_3324b_row2_col10, #T_3324b_row3_col3, #T_3324b_row3_col4, #T_3324b_row3_col5, #T_3324b_row3_col6, #T_3324b_row3_col7, #T_3324b_row3_col8, #T_3324b_row3_col9, #T_3324b_row3_col10, #T_3324b_row4_col4, #T_3324b_row4_col5, #T_3324b_row4_col6, #T_3324b_row4_col7, #T_3324b_row4_col8, #T_3324b_row4_col9, #T_3324b_row4_col10, #T_3324b_row5_col5, #T_3324b_row5_col6, #T_3324b_row5_col7, #T_3324b_row5_col8, #T_3324b_row5_col9, #T_3324b_row5_col10, #T_3324b_row6_col6, #T_3324b_row6_col7, #T_3324b_row6_col8, #T_3324b_row6_col9, #T_3324b_row6_col10, #T_3324b_row7_col7, #T_3324b_row7_col8, #T_3324b_row7_col9, #T_3324b_row7_col10, #T_3324b_row8_col8, #T_3324b_row8_col9, #T_3324b_row8_col10, #T_3324b_row9_col9, #T_3324b_row9_col10, #T_3324b_row10_col10 {\n",
       "  background-color: #000000;\n",
       "  color: #f1f1f1;\n",
       "  background-color: #f1f1f1;\n",
       "}\n",
       "#T_3324b_row1_col0 {\n",
       "  background-color: #f7b093;\n",
       "  color: #000000;\n",
       "}\n",
       "#T_3324b_row2_col0, #T_3324b_row4_col1, #T_3324b_row4_col2, #T_3324b_row4_col3, #T_3324b_row5_col4, #T_3324b_row8_col1, #T_3324b_row8_col4, #T_3324b_row8_col6, #T_3324b_row9_col0, #T_3324b_row9_col2, #T_3324b_row9_col3, #T_3324b_row9_col5, #T_3324b_row9_col6, #T_3324b_row9_col7, #T_3324b_row10_col2, #T_3324b_row10_col9 {\n",
       "  background-color: #dddcdc;\n",
       "  color: #000000;\n",
       "}\n",
       "#T_3324b_row2_col1, #T_3324b_row7_col4, #T_3324b_row8_col0, #T_3324b_row8_col3, #T_3324b_row8_col5, #T_3324b_row9_col1 {\n",
       "  background-color: #dcdddd;\n",
       "  color: #000000;\n",
       "}\n",
       "#T_3324b_row3_col0 {\n",
       "  background-color: #e7d7ce;\n",
       "  color: #000000;\n",
       "}\n",
       "#T_3324b_row3_col1 {\n",
       "  background-color: #edd2c3;\n",
       "  color: #000000;\n",
       "}\n",
       "#T_3324b_row3_col2, #T_3324b_row10_col4 {\n",
       "  background-color: #dadce0;\n",
       "  color: #000000;\n",
       "}\n",
       "#T_3324b_row4_col0, #T_3324b_row5_col2, #T_3324b_row8_col7 {\n",
       "  background-color: #dfdbd9;\n",
       "  color: #000000;\n",
       "}\n",
       "#T_3324b_row5_col0 {\n",
       "  background-color: #e9d5cb;\n",
       "  color: #000000;\n",
       "}\n",
       "#T_3324b_row5_col1, #T_3324b_row10_col7 {\n",
       "  background-color: #f4c5ad;\n",
       "  color: #000000;\n",
       "}\n",
       "#T_3324b_row5_col3 {\n",
       "  background-color: #9abbff;\n",
       "  color: #000000;\n",
       "}\n",
       "#T_3324b_row6_col0 {\n",
       "  background-color: #f7ba9f;\n",
       "  color: #000000;\n",
       "}\n",
       "#T_3324b_row6_col1 {\n",
       "  background-color: #d24b40;\n",
       "  color: #f1f1f1;\n",
       "}\n",
       "#T_3324b_row6_col2, #T_3324b_row6_col4, #T_3324b_row8_col2, #T_3324b_row9_col4, #T_3324b_row9_col8, #T_3324b_row10_col8 {\n",
       "  background-color: #dedcdb;\n",
       "  color: #000000;\n",
       "}\n",
       "#T_3324b_row6_col3 {\n",
       "  background-color: #d3dbe7;\n",
       "  color: #000000;\n",
       "}\n",
       "#T_3324b_row6_col5 {\n",
       "  background-color: #e9785d;\n",
       "  color: #f1f1f1;\n",
       "}\n",
       "#T_3324b_row7_col0 {\n",
       "  background-color: #c7d7f0;\n",
       "  color: #000000;\n",
       "}\n",
       "#T_3324b_row7_col1 {\n",
       "  background-color: #a6c4fe;\n",
       "  color: #000000;\n",
       "}\n",
       "#T_3324b_row7_col2 {\n",
       "  background-color: #e0dbd8;\n",
       "  color: #000000;\n",
       "}\n",
       "#T_3324b_row7_col3 {\n",
       "  background-color: #bfd3f6;\n",
       "  color: #000000;\n",
       "}\n",
       "#T_3324b_row7_col5 {\n",
       "  background-color: #f1ccb8;\n",
       "  color: #000000;\n",
       "}\n",
       "#T_3324b_row7_col6, #T_3324b_row10_col0 {\n",
       "  background-color: #c0d4f5;\n",
       "  color: #000000;\n",
       "}\n",
       "#T_3324b_row10_col1 {\n",
       "  background-color: #9fbfff;\n",
       "  color: #000000;\n",
       "}\n",
       "#T_3324b_row10_col3 {\n",
       "  background-color: #d5dbe5;\n",
       "  color: #000000;\n",
       "}\n",
       "#T_3324b_row10_col5 {\n",
       "  background-color: #c9d7f0;\n",
       "  color: #000000;\n",
       "}\n",
       "#T_3324b_row10_col6 {\n",
       "  background-color: #aec9fc;\n",
       "  color: #000000;\n",
       "}\n",
       "</style>\n",
       "<table id=\"T_3324b_\">\n",
       "  <thead>\n",
       "    <tr>\n",
       "      <th class=\"blank level0\" >&nbsp;</th>\n",
       "      <th class=\"col_heading level0 col0\" >Came From Paid Acq?</th>\n",
       "      <th class=\"col_heading level0 col1\" ># Months since first Purchase</th>\n",
       "      <th class=\"col_heading level0 col2\" >Has contacted CS</th>\n",
       "      <th class=\"col_heading level0 col3\" >Has RakutenTV</th>\n",
       "      <th class=\"col_heading level0 col4\" >PaymentMethod</th>\n",
       "      <th class=\"col_heading level0 col5\" >Last Purchase Amount</th>\n",
       "      <th class=\"col_heading level0 col6\" >Total Purchase Amount</th>\n",
       "      <th class=\"col_heading level0 col7\" >Churn</th>\n",
       "      <th class=\"col_heading level0 col8\" >Age</th>\n",
       "      <th class=\"col_heading level0 col9\" >Gender</th>\n",
       "      <th class=\"col_heading level0 col10\" >First Purshase</th>\n",
       "    </tr>\n",
       "  </thead>\n",
       "  <tbody>\n",
       "    <tr>\n",
       "      <th id=\"T_3324b_level0_row0\" class=\"row_heading level0 row0\" >Came From Paid Acq?</th>\n",
       "      <td id=\"T_3324b_row0_col0\" class=\"data row0 col0\" >nan</td>\n",
       "      <td id=\"T_3324b_row0_col1\" class=\"data row0 col1\" >nan</td>\n",
       "      <td id=\"T_3324b_row0_col2\" class=\"data row0 col2\" >nan</td>\n",
       "      <td id=\"T_3324b_row0_col3\" class=\"data row0 col3\" >nan</td>\n",
       "      <td id=\"T_3324b_row0_col4\" class=\"data row0 col4\" >nan</td>\n",
       "      <td id=\"T_3324b_row0_col5\" class=\"data row0 col5\" >nan</td>\n",
       "      <td id=\"T_3324b_row0_col6\" class=\"data row0 col6\" >nan</td>\n",
       "      <td id=\"T_3324b_row0_col7\" class=\"data row0 col7\" >nan</td>\n",
       "      <td id=\"T_3324b_row0_col8\" class=\"data row0 col8\" >nan</td>\n",
       "      <td id=\"T_3324b_row0_col9\" class=\"data row0 col9\" >nan</td>\n",
       "      <td id=\"T_3324b_row0_col10\" class=\"data row0 col10\" >nan</td>\n",
       "    </tr>\n",
       "    <tr>\n",
       "      <th id=\"T_3324b_level0_row1\" class=\"row_heading level0 row1\" ># Months since first Purchase</th>\n",
       "      <td id=\"T_3324b_row1_col0\" class=\"data row1 col0\" >0.38</td>\n",
       "      <td id=\"T_3324b_row1_col1\" class=\"data row1 col1\" >nan</td>\n",
       "      <td id=\"T_3324b_row1_col2\" class=\"data row1 col2\" >nan</td>\n",
       "      <td id=\"T_3324b_row1_col3\" class=\"data row1 col3\" >nan</td>\n",
       "      <td id=\"T_3324b_row1_col4\" class=\"data row1 col4\" >nan</td>\n",
       "      <td id=\"T_3324b_row1_col5\" class=\"data row1 col5\" >nan</td>\n",
       "      <td id=\"T_3324b_row1_col6\" class=\"data row1 col6\" >nan</td>\n",
       "      <td id=\"T_3324b_row1_col7\" class=\"data row1 col7\" >nan</td>\n",
       "      <td id=\"T_3324b_row1_col8\" class=\"data row1 col8\" >nan</td>\n",
       "      <td id=\"T_3324b_row1_col9\" class=\"data row1 col9\" >nan</td>\n",
       "      <td id=\"T_3324b_row1_col10\" class=\"data row1 col10\" >nan</td>\n",
       "    </tr>\n",
       "    <tr>\n",
       "      <th id=\"T_3324b_level0_row2\" class=\"row_heading level0 row2\" >Has contacted CS</th>\n",
       "      <td id=\"T_3324b_row2_col0\" class=\"data row2 col0\" >0.00</td>\n",
       "      <td id=\"T_3324b_row2_col1\" class=\"data row2 col1\" >-0.01</td>\n",
       "      <td id=\"T_3324b_row2_col2\" class=\"data row2 col2\" >nan</td>\n",
       "      <td id=\"T_3324b_row2_col3\" class=\"data row2 col3\" >nan</td>\n",
       "      <td id=\"T_3324b_row2_col4\" class=\"data row2 col4\" >nan</td>\n",
       "      <td id=\"T_3324b_row2_col5\" class=\"data row2 col5\" >nan</td>\n",
       "      <td id=\"T_3324b_row2_col6\" class=\"data row2 col6\" >nan</td>\n",
       "      <td id=\"T_3324b_row2_col7\" class=\"data row2 col7\" >nan</td>\n",
       "      <td id=\"T_3324b_row2_col8\" class=\"data row2 col8\" >nan</td>\n",
       "      <td id=\"T_3324b_row2_col9\" class=\"data row2 col9\" >nan</td>\n",
       "      <td id=\"T_3324b_row2_col10\" class=\"data row2 col10\" >nan</td>\n",
       "    </tr>\n",
       "    <tr>\n",
       "      <th id=\"T_3324b_level0_row3\" class=\"row_heading level0 row3\" >Has RakutenTV</th>\n",
       "      <td id=\"T_3324b_row3_col0\" class=\"data row3 col0\" >0.08</td>\n",
       "      <td id=\"T_3324b_row3_col1\" class=\"data row3 col1\" >0.14</td>\n",
       "      <td id=\"T_3324b_row3_col2\" class=\"data row3 col2\" >-0.02</td>\n",
       "      <td id=\"T_3324b_row3_col3\" class=\"data row3 col3\" >nan</td>\n",
       "      <td id=\"T_3324b_row3_col4\" class=\"data row3 col4\" >nan</td>\n",
       "      <td id=\"T_3324b_row3_col5\" class=\"data row3 col5\" >nan</td>\n",
       "      <td id=\"T_3324b_row3_col6\" class=\"data row3 col6\" >nan</td>\n",
       "      <td id=\"T_3324b_row3_col7\" class=\"data row3 col7\" >nan</td>\n",
       "      <td id=\"T_3324b_row3_col8\" class=\"data row3 col8\" >nan</td>\n",
       "      <td id=\"T_3324b_row3_col9\" class=\"data row3 col9\" >nan</td>\n",
       "      <td id=\"T_3324b_row3_col10\" class=\"data row3 col10\" >nan</td>\n",
       "    </tr>\n",
       "    <tr>\n",
       "      <th id=\"T_3324b_level0_row4\" class=\"row_heading level0 row4\" >PaymentMethod</th>\n",
       "      <td id=\"T_3324b_row4_col0\" class=\"data row4 col0\" >0.02</td>\n",
       "      <td id=\"T_3324b_row4_col1\" class=\"data row4 col1\" >0.00</td>\n",
       "      <td id=\"T_3324b_row4_col2\" class=\"data row4 col2\" >0.01</td>\n",
       "      <td id=\"T_3324b_row4_col3\" class=\"data row4 col3\" >0.00</td>\n",
       "      <td id=\"T_3324b_row4_col4\" class=\"data row4 col4\" >nan</td>\n",
       "      <td id=\"T_3324b_row4_col5\" class=\"data row4 col5\" >nan</td>\n",
       "      <td id=\"T_3324b_row4_col6\" class=\"data row4 col6\" >nan</td>\n",
       "      <td id=\"T_3324b_row4_col7\" class=\"data row4 col7\" >nan</td>\n",
       "      <td id=\"T_3324b_row4_col8\" class=\"data row4 col8\" >nan</td>\n",
       "      <td id=\"T_3324b_row4_col9\" class=\"data row4 col9\" >nan</td>\n",
       "      <td id=\"T_3324b_row4_col10\" class=\"data row4 col10\" >nan</td>\n",
       "    </tr>\n",
       "    <tr>\n",
       "      <th id=\"T_3324b_level0_row5\" class=\"row_heading level0 row5\" >Last Purchase Amount</th>\n",
       "      <td id=\"T_3324b_row5_col0\" class=\"data row5 col0\" >0.10</td>\n",
       "      <td id=\"T_3324b_row5_col1\" class=\"data row5 col1\" >0.24</td>\n",
       "      <td id=\"T_3324b_row5_col2\" class=\"data row5 col2\" >0.02</td>\n",
       "      <td id=\"T_3324b_row5_col3\" class=\"data row5 col3\" >-0.42</td>\n",
       "      <td id=\"T_3324b_row5_col4\" class=\"data row5 col4\" >0.01</td>\n",
       "      <td id=\"T_3324b_row5_col5\" class=\"data row5 col5\" >nan</td>\n",
       "      <td id=\"T_3324b_row5_col6\" class=\"data row5 col6\" >nan</td>\n",
       "      <td id=\"T_3324b_row5_col7\" class=\"data row5 col7\" >nan</td>\n",
       "      <td id=\"T_3324b_row5_col8\" class=\"data row5 col8\" >nan</td>\n",
       "      <td id=\"T_3324b_row5_col9\" class=\"data row5 col9\" >nan</td>\n",
       "      <td id=\"T_3324b_row5_col10\" class=\"data row5 col10\" >nan</td>\n",
       "    </tr>\n",
       "    <tr>\n",
       "      <th id=\"T_3324b_level0_row6\" class=\"row_heading level0 row6\" >Total Purchase Amount</th>\n",
       "      <td id=\"T_3324b_row6_col0\" class=\"data row6 col0\" >0.32</td>\n",
       "      <td id=\"T_3324b_row6_col1\" class=\"data row6 col1\" >0.83</td>\n",
       "      <td id=\"T_3324b_row6_col2\" class=\"data row6 col2\" >0.01</td>\n",
       "      <td id=\"T_3324b_row6_col3\" class=\"data row6 col3\" >-0.08</td>\n",
       "      <td id=\"T_3324b_row6_col4\" class=\"data row6 col4\" >0.01</td>\n",
       "      <td id=\"T_3324b_row6_col5\" class=\"data row6 col5\" >0.65</td>\n",
       "      <td id=\"T_3324b_row6_col6\" class=\"data row6 col6\" >nan</td>\n",
       "      <td id=\"T_3324b_row6_col7\" class=\"data row6 col7\" >nan</td>\n",
       "      <td id=\"T_3324b_row6_col8\" class=\"data row6 col8\" >nan</td>\n",
       "      <td id=\"T_3324b_row6_col9\" class=\"data row6 col9\" >nan</td>\n",
       "      <td id=\"T_3324b_row6_col10\" class=\"data row6 col10\" >nan</td>\n",
       "    </tr>\n",
       "    <tr>\n",
       "      <th id=\"T_3324b_level0_row7\" class=\"row_heading level0 row7\" >Churn</th>\n",
       "      <td id=\"T_3324b_row7_col0\" class=\"data row7 col0\" >-0.15</td>\n",
       "      <td id=\"T_3324b_row7_col1\" class=\"data row7 col1\" >-0.35</td>\n",
       "      <td id=\"T_3324b_row7_col2\" class=\"data row7 col2\" >0.03</td>\n",
       "      <td id=\"T_3324b_row7_col3\" class=\"data row7 col3\" >-0.21</td>\n",
       "      <td id=\"T_3324b_row7_col4\" class=\"data row7 col4\" >-0.00</td>\n",
       "      <td id=\"T_3324b_row7_col5\" class=\"data row7 col5\" >0.19</td>\n",
       "      <td id=\"T_3324b_row7_col6\" class=\"data row7 col6\" >-0.20</td>\n",
       "      <td id=\"T_3324b_row7_col7\" class=\"data row7 col7\" >nan</td>\n",
       "      <td id=\"T_3324b_row7_col8\" class=\"data row7 col8\" >nan</td>\n",
       "      <td id=\"T_3324b_row7_col9\" class=\"data row7 col9\" >nan</td>\n",
       "      <td id=\"T_3324b_row7_col10\" class=\"data row7 col10\" >nan</td>\n",
       "    </tr>\n",
       "    <tr>\n",
       "      <th id=\"T_3324b_level0_row8\" class=\"row_heading level0 row8\" >Age</th>\n",
       "      <td id=\"T_3324b_row8_col0\" class=\"data row8 col0\" >-0.00</td>\n",
       "      <td id=\"T_3324b_row8_col1\" class=\"data row8 col1\" >0.01</td>\n",
       "      <td id=\"T_3324b_row8_col2\" class=\"data row8 col2\" >0.01</td>\n",
       "      <td id=\"T_3324b_row8_col3\" class=\"data row8 col3\" >-0.00</td>\n",
       "      <td id=\"T_3324b_row8_col4\" class=\"data row8 col4\" >0.00</td>\n",
       "      <td id=\"T_3324b_row8_col5\" class=\"data row8 col5\" >-0.00</td>\n",
       "      <td id=\"T_3324b_row8_col6\" class=\"data row8 col6\" >0.00</td>\n",
       "      <td id=\"T_3324b_row8_col7\" class=\"data row8 col7\" >0.02</td>\n",
       "      <td id=\"T_3324b_row8_col8\" class=\"data row8 col8\" >nan</td>\n",
       "      <td id=\"T_3324b_row8_col9\" class=\"data row8 col9\" >nan</td>\n",
       "      <td id=\"T_3324b_row8_col10\" class=\"data row8 col10\" >nan</td>\n",
       "    </tr>\n",
       "    <tr>\n",
       "      <th id=\"T_3324b_level0_row9\" class=\"row_heading level0 row9\" >Gender</th>\n",
       "      <td id=\"T_3324b_row9_col0\" class=\"data row9 col0\" >0.00</td>\n",
       "      <td id=\"T_3324b_row9_col1\" class=\"data row9 col1\" >-0.00</td>\n",
       "      <td id=\"T_3324b_row9_col2\" class=\"data row9 col2\" >0.01</td>\n",
       "      <td id=\"T_3324b_row9_col3\" class=\"data row9 col3\" >0.00</td>\n",
       "      <td id=\"T_3324b_row9_col4\" class=\"data row9 col4\" >0.01</td>\n",
       "      <td id=\"T_3324b_row9_col5\" class=\"data row9 col5\" >0.01</td>\n",
       "      <td id=\"T_3324b_row9_col6\" class=\"data row9 col6\" >0.00</td>\n",
       "      <td id=\"T_3324b_row9_col7\" class=\"data row9 col7\" >0.00</td>\n",
       "      <td id=\"T_3324b_row9_col8\" class=\"data row9 col8\" >0.02</td>\n",
       "      <td id=\"T_3324b_row9_col9\" class=\"data row9 col9\" >nan</td>\n",
       "      <td id=\"T_3324b_row9_col10\" class=\"data row9 col10\" >nan</td>\n",
       "    </tr>\n",
       "    <tr>\n",
       "      <th id=\"T_3324b_level0_row10\" class=\"row_heading level0 row10\" >First Purshase</th>\n",
       "      <td id=\"T_3324b_row10_col0\" class=\"data row10 col0\" >-0.20</td>\n",
       "      <td id=\"T_3324b_row10_col1\" class=\"data row10 col1\" >-0.40</td>\n",
       "      <td id=\"T_3324b_row10_col2\" class=\"data row10 col2\" >0.00</td>\n",
       "      <td id=\"T_3324b_row10_col3\" class=\"data row10 col3\" >-0.06</td>\n",
       "      <td id=\"T_3324b_row10_col4\" class=\"data row10 col4\" >-0.02</td>\n",
       "      <td id=\"T_3324b_row10_col5\" class=\"data row10 col5\" >-0.15</td>\n",
       "      <td id=\"T_3324b_row10_col6\" class=\"data row10 col6\" >-0.31</td>\n",
       "      <td id=\"T_3324b_row10_col7\" class=\"data row10 col7\" >0.25</td>\n",
       "      <td id=\"T_3324b_row10_col8\" class=\"data row10 col8\" >0.01</td>\n",
       "      <td id=\"T_3324b_row10_col9\" class=\"data row10 col9\" >0.00</td>\n",
       "      <td id=\"T_3324b_row10_col10\" class=\"data row10 col10\" >nan</td>\n",
       "    </tr>\n",
       "  </tbody>\n",
       "</table>\n"
      ],
      "text/plain": [
       "<pandas.io.formats.style.Styler at 0x7feb2012f1c0>"
      ]
     },
     "execution_count": 23,
     "metadata": {},
     "output_type": "execute_result"
    }
   ],
   "source": [
    "# Negative correlation between :\n",
    "       #Churn <-> Months since first Purchase , Churn <-> Has Rakuten TV\n",
    "       #Last Purshase Amount <->  Has RakutenTV\n",
    "       #First Purshase <-> Came From Paid Acq, First Purshase <->  Months since first Purchase, First Purshase <-> Has Rakuten Tv\n",
    "\n",
    "# Positive Correlations \n",
    "        # Came From Paid Acq <-> Month Since first Purshase\n",
    "        # Last Purshase amount <-> Month Since first Purshase, \n",
    "        # First Purshase <-> Churn\n",
    "        \n",
    "# Big Positive Correlations\n",
    "        # Total Purchase Amount <-> Month Since First Purshase ( logic more time we spend on Rakuten more we spend)\n",
    "        #  Total Purchase Amount <-> Last Purchase Amount ( maybe because many customers leave after their first purchase)\n",
    "\n",
    "corr = df3.corr()\n",
    "corr.style.background_gradient(cmap='coolwarm')\n",
    "mask = np.zeros_like(corr, dtype=bool)\n",
    "mask[np.triu_indices_from(mask)] = True\n",
    "corr[mask] = np.nan\n",
    "(corr\n",
    " .style\n",
    " .background_gradient(cmap='coolwarm', axis=None, vmin=-1, vmax=1)\n",
    " .highlight_null(null_color='#f1f1f1')  # Color NaNs grey\n",
    " .set_precision(2))"
   ]
  },
  {
   "cell_type": "markdown",
   "id": "5b0ba33f",
   "metadata": {},
   "source": [
    "# Logistic Regression with all columns"
   ]
  },
  {
   "cell_type": "code",
   "execution_count": 24,
   "id": "8e596f31",
   "metadata": {},
   "outputs": [],
   "source": [
    "df3_v1 = df3.drop([\"Churn\"], axis=1)\n",
    "\n",
    "\n",
    "X = df3_v1.values # features\n",
    "y = df3.Churn # target\n",
    "\n",
    "# initialize test size to 10%\n",
    "X_train, X_test, Y_train, Y_test = train_test_split( X, y, test_size=0.1, random_state=0)\n",
    "\n",
    "#Create an object called regressor in the LinearRegression class…\n",
    "regressor = LogisticRegression(random_state=0, max_iter = 150)\n",
    "\n",
    "#Fit the linear regression model to the training set\n",
    "regressor.fit(X_train,Y_train)\n",
    "\n",
    "# Predict the Test set results:\n",
    "y_pred= regressor.predict(X_test)"
   ]
  },
  {
   "cell_type": "code",
   "execution_count": 25,
   "id": "ceaf68e4",
   "metadata": {},
   "outputs": [],
   "source": [
    "# First we create an evaluation function to output all the needs metrics\n",
    "\n",
    "def evaluate_preds(y_true, y_preds):\n",
    "    \"\"\"\n",
    "    Performs evaluation comparison on y_true labels vs. y_pred labels\n",
    "    on a classification.\n",
    "    \"\"\"\n",
    "    accuracy = accuracy_score(y_true, y_preds)\n",
    "    precision = precision_score(y_true, y_preds, average='micro')\n",
    "    recall = recall_score(y_true, y_preds, average='micro')\n",
    "    f1 = f1_score(y_true, y_preds, average='micro')\n",
    "    metric_dict = {\"accuracy\": round(accuracy, 4),\n",
    "                   \"precision\": round(precision, 4),\n",
    "                   \"recall\": round(recall, 4),\n",
    "                   \"f1\": round(f1, 4)}\n",
    "    \n",
    "    return metric_dict\n",
    "\n",
    "\n",
    "def print_stat(dico):\n",
    "    for ele in dico.items():\n",
    "        print(ele[0],\":\", round(ele[1]*100,4),\"%\")\n"
   ]
  },
  {
   "cell_type": "code",
   "execution_count": 26,
   "id": "ba45a5d2",
   "metadata": {},
   "outputs": [
    {
     "name": "stdout",
     "output_type": "stream",
     "text": [
      "accuracy : 78.67 %\n",
      "precision : 78.67 %\n",
      "recall : 78.67 %\n",
      "f1 : 78.67 %\n"
     ]
    }
   ],
   "source": [
    "# call the above functions.\n",
    "print_stat(evaluate_preds(Y_test,y_pred))"
   ]
  },
  {
   "cell_type": "code",
   "execution_count": 27,
   "id": "b6ce1194",
   "metadata": {},
   "outputs": [
    {
     "name": "stdout",
     "output_type": "stream",
     "text": [
      "              precision    recall  f1-score   support\n",
      "\n",
      "          No       0.81      0.91      0.86       496\n",
      "         Yes       0.68      0.48      0.56       198\n",
      "\n",
      "    accuracy                           0.79       694\n",
      "   macro avg       0.75      0.69      0.71       694\n",
      "weighted avg       0.78      0.79      0.77       694\n",
      "\n"
     ]
    }
   ],
   "source": [
    "# creation of a Classification report\n",
    "\n",
    "print(classification_report(Y_test, y_pred, target_names=['No','Yes']))"
   ]
  },
  {
   "cell_type": "code",
   "execution_count": 28,
   "id": "8c5de43b",
   "metadata": {},
   "outputs": [
    {
     "data": {
      "image/png": "[encoded data removed]",
      "text/plain": [
       "<Figure size 576x432 with 2 Axes>"
      ]
     },
     "metadata": {
      "needs_background": "light"
     },
     "output_type": "display_data"
    },
    {
     "data": {
      "image/png": "[encoded data removed]",
      "text/plain": [
       "<Figure size 576x432 with 2 Axes>"
      ]
     },
     "metadata": {
      "needs_background": "light"
     },
     "output_type": "display_data"
    }
   ],
   "source": [
    "# Confusion Matrices\n",
    "\n",
    "#Confusion Matrix With numbers \n",
    "conf_mat = confusion_matrix(Y_test, y_pred)\n",
    "fig, ax = plt.subplots(figsize=(8,6))\n",
    "sns.heatmap(conf_mat, annot=True, fmt='d', xticklabels=['No','Yes'], yticklabels=['No','Yes'])\n",
    "plt.ylabel('Actual')\n",
    "plt.xlabel('Predicted')\n",
    "plt.show()\n",
    "\n",
    "\n",
    "# Confusion Matrix with percentages (better than the other one)\n",
    "cm = confusion_matrix(Y_test, y_pred)\n",
    "cmn = cm.astype('float') / cm.sum(axis=1)[:, np.newaxis]\n",
    "fig, ax = plt.subplots(figsize=(8,6))\n",
    "sns.heatmap(cmn, annot=True, fmt='%',xticklabels=['No','Yes'], yticklabels=['No','Yes'])\n",
    "\n",
    "plt.ylabel('Actual')\n",
    "plt.xlabel('Predicted')\n",
    "plt.show()"
   ]
  },
  {
   "cell_type": "markdown",
   "id": "cefa0775",
   "metadata": {},
   "source": [
    "# Logist Regression with Less columns (cf Correlation Matrix)"
   ]
  },
  {
   "cell_type": "code",
   "execution_count": 29,
   "id": "d8ae1feb",
   "metadata": {},
   "outputs": [
    {
     "name": "stdout",
     "output_type": "stream",
     "text": [
      "accuracy : 79.54 %\n",
      "precision : 79.54 %\n",
      "recall : 79.54 %\n",
      "f1 : 79.54 %\n"
     ]
    }
   ],
   "source": [
    "# we remove columns we dont need ( cf correlation matrix)\n",
    "df4 = df3.drop([\"Has contacted CS\",\"PaymentMethod\",\"Age\",\"Gender\"],axis=1)\n",
    "\n",
    "# same as before\n",
    "df4_v1 = df4.drop([\"Churn\"], axis=1)\n",
    "X_2 = df4_v1.values\n",
    "y_2 = df4.Churn\n",
    "\n",
    "X_train_2, X_test_2, Y_train_2, Y_test_2 = train_test_split( X_2, y_2, test_size=0.1, random_state=0)\n",
    "\n",
    "#Create an object called regressor in the LinearRegression class…\n",
    "\n",
    "regressor_2 = LogisticRegression(random_state=0, max_iter = 150)\n",
    "\n",
    "#Fit the linear regression model to the training set\n",
    "regressor_2.fit(X_train_2,Y_train_2)\n",
    "\n",
    "# Predict test result:\n",
    "y_pred_2= regressor_2.predict(X_test_2)\n",
    "\n",
    "\n",
    "# we just improved by ~0.25% the model by selecting the most important features\n",
    "\n",
    "print_stat(evaluate_preds(Y_test_2,y_pred_2))\n",
    "\n",
    "# I won't perform correlation matrices (it is almost the same as before, because very small changes)"
   ]
  },
  {
   "cell_type": "markdown",
   "id": "3834eaf3",
   "metadata": {},
   "source": [
    "# Random Forest"
   ]
  },
  {
   "cell_type": "code",
   "execution_count": 30,
   "id": "f01e43da",
   "metadata": {},
   "outputs": [
    {
     "name": "stdout",
     "output_type": "stream",
     "text": [
      "accuracy : 75.36 %\n",
      "precision : 75.36 %\n",
      "recall : 75.36 %\n",
      "f1 : 75.36 %\n",
      "\n",
      "               precision    recall  f1-score   support\n",
      "\n",
      "          No       0.75      1.00      0.85       496\n",
      "         Yes       0.94      0.15      0.25       198\n",
      "\n",
      "    accuracy                           0.75       694\n",
      "   macro avg       0.84      0.57      0.55       694\n",
      "weighted avg       0.80      0.75      0.68       694\n",
      "\n"
     ]
    }
   ],
   "source": [
    "clf = RandomForestClassifier(max_depth=2, random_state=0)\n",
    "\n",
    "clf.fit(X_train, Y_train)\n",
    "\n",
    "ypredict_clf = clf.predict(X_test)\n",
    "\n",
    "print_stat(evaluate_preds(Y_test,ypredict_clf))\n",
    "\n",
    "# accuracy 75.36 % -> less accurate than logistic regression\n",
    "\n",
    "# Creation of a Classification report\n",
    "\n",
    "print(\"\\n\",classification_report(Y_test, ypredict_clf, \n",
    "                                    target_names=['No','Yes']))"
   ]
  },
  {
   "cell_type": "code",
   "execution_count": 31,
   "id": "efb321bf",
   "metadata": {},
   "outputs": [
    {
     "data": {
      "image/png": "[encoded data removed]",
      "text/plain": [
       "<Figure size 576x432 with 2 Axes>"
      ]
     },
     "metadata": {
      "needs_background": "light"
     },
     "output_type": "display_data"
    },
    {
     "data": {
      "image/png": "[encoded data removed]",
      "text/plain": [
       "<Figure size 576x432 with 2 Axes>"
      ]
     },
     "metadata": {
      "needs_background": "light"
     },
     "output_type": "display_data"
    }
   ],
   "source": [
    "conf_mat = confusion_matrix(Y_test, ypredict_clf)\n",
    "fig, ax = plt.subplots(figsize=(8,6))\n",
    "sns.heatmap(conf_mat, annot=True, fmt='d', xticklabels=['No','Yes'], yticklabels=['No','Yes'])\n",
    "plt.ylabel('Actual')\n",
    "plt.xlabel('Predicted')\n",
    "plt.show()\n",
    "\n",
    "# Confusion Matrix with percentages\n",
    "cm = confusion_matrix(Y_test, ypredict_clf)\n",
    "cmn = cm.astype('float') / cm.sum(axis=1)[:, np.newaxis]\n",
    "fig, ax = plt.subplots(figsize=(8,6))\n",
    "sns.heatmap(cmn, annot=True, fmt='%',xticklabels=['No','Yes'], yticklabels=['No','Yes'])\n",
    "\n",
    "plt.ylabel('Actual')\n",
    "plt.xlabel('Predicted')\n",
    "plt.show()\n",
    "\n",
    "# compare to logist regression, RF performs better in prediction : No Churn it is almost perfect\n",
    "\n",
    "# But we are much less good at predicting churning customers\n",
    "# Let us see how can we improve our Random forest (by finding the best parameters)"
   ]
  },
  {
   "cell_type": "markdown",
   "id": "dd0d413e",
   "metadata": {},
   "source": [
    "# Fine Tuning of the Random Forest Model on the max_depth parameters on the wall dataset"
   ]
  },
  {
   "cell_type": "code",
   "execution_count": 32,
   "id": "3a0b97bd",
   "metadata": {},
   "outputs": [
    {
     "data": {
      "text/plain": [
       "[{'accuracy': 0.7536, 'precision': 0.7536, 'recall': 0.7536, 'f1': 0.7536},\n",
       " {'accuracy': 0.7536, 'precision': 0.7536, 'recall': 0.7536, 'f1': 0.7536},\n",
       " {'accuracy': 0.7723, 'precision': 0.7723, 'recall': 0.7723, 'f1': 0.7723},\n",
       " {'accuracy': 0.7723, 'precision': 0.7723, 'recall': 0.7723, 'f1': 0.7723},\n",
       " {'accuracy': 0.7911, 'precision': 0.7911, 'recall': 0.7911, 'f1': 0.7911},\n",
       " {'accuracy': 0.7911, 'precision': 0.7911, 'recall': 0.7911, 'f1': 0.7911},\n",
       " {'accuracy': 0.7824, 'precision': 0.7824, 'recall': 0.7824, 'f1': 0.7824},\n",
       " {'accuracy': 0.7824, 'precision': 0.7824, 'recall': 0.7824, 'f1': 0.7824},\n",
       " {'accuracy': 0.7896, 'precision': 0.7896, 'recall': 0.7896, 'f1': 0.7896},\n",
       " {'accuracy': 0.7896, 'precision': 0.7896, 'recall': 0.7896, 'f1': 0.7896},\n",
       " {'accuracy': 0.7824, 'precision': 0.7824, 'recall': 0.7824, 'f1': 0.7824},\n",
       " {'accuracy': 0.7824, 'precision': 0.7824, 'recall': 0.7824, 'f1': 0.7824},\n",
       " {'accuracy': 0.7839, 'precision': 0.7839, 'recall': 0.7839, 'f1': 0.7839},\n",
       " {'accuracy': 0.7839, 'precision': 0.7839, 'recall': 0.7839, 'f1': 0.7839},\n",
       " {'accuracy': 0.7795, 'precision': 0.7795, 'recall': 0.7795, 'f1': 0.7795},\n",
       " {'accuracy': 0.7795, 'precision': 0.7795, 'recall': 0.7795, 'f1': 0.7795},\n",
       " {'accuracy': 0.7867, 'precision': 0.7867, 'recall': 0.7867, 'f1': 0.7867},\n",
       " {'accuracy': 0.7867, 'precision': 0.7867, 'recall': 0.7867, 'f1': 0.7867},\n",
       " {'accuracy': 0.7752, 'precision': 0.7752, 'recall': 0.7752, 'f1': 0.7752},\n",
       " {'accuracy': 0.7752, 'precision': 0.7752, 'recall': 0.7752, 'f1': 0.7752},\n",
       " {'accuracy': 0.7781, 'precision': 0.7781, 'recall': 0.7781, 'f1': 0.7781},\n",
       " {'accuracy': 0.7781, 'precision': 0.7781, 'recall': 0.7781, 'f1': 0.7781},\n",
       " {'accuracy': 0.7723, 'precision': 0.7723, 'recall': 0.7723, 'f1': 0.7723},\n",
       " {'accuracy': 0.7723, 'precision': 0.7723, 'recall': 0.7723, 'f1': 0.7723},\n",
       " {'accuracy': 0.7695, 'precision': 0.7695, 'recall': 0.7695, 'f1': 0.7695},\n",
       " {'accuracy': 0.7695, 'precision': 0.7695, 'recall': 0.7695, 'f1': 0.7695}]"
      ]
     },
     "execution_count": 32,
     "metadata": {},
     "output_type": "execute_result"
    }
   ],
   "source": [
    "#generate a list of possible depth parameters\n",
    "list_max_depth_rf = [i/10 for i in range(20, 150, 5)]\n",
    "\n",
    "# here we evaluate many different max_depth parameters in order to choose the best one\n",
    "list_resultat_rf = []\n",
    "for depth in list_max_depth_rf:\n",
    "    clf = RandomForestClassifier(max_depth=depth, random_state=0)\n",
    "    clf.fit(X_train, Y_train)\n",
    "    ypredict_clf = clf.predict(X_test)\n",
    "    resultat = evaluate_preds(Y_test,ypredict_clf)\n",
    "    list_resultat_rf.append(resultat)\n",
    "\n",
    "\n",
    "list_resultat_rf"
   ]
  },
  {
   "cell_type": "code",
   "execution_count": 33,
   "id": "826cdd55",
   "metadata": {},
   "outputs": [
    {
     "name": "stdout",
     "output_type": "stream",
     "text": [
      "Best accuracy :  0.7911\n",
      "Meilleur max_depth :  4.0\n"
     ]
    }
   ],
   "source": [
    "# we select the best accuracy\n",
    "max_parameter_rf =  max([element['accuracy'] for element in list_resultat_rf])\n",
    "\n",
    "print(\"Best accuracy : \",max_parameter_rf)\n",
    "\n",
    "# We take the index of the max accuracy to find after what is the max_depth\n",
    "for i in range(0, len(list_resultat_rf)):\n",
    "    if(list_resultat_rf[i]['accuracy'] == max_parameter_rf):\n",
    "        num_rf = i\n",
    "        break\n",
    "        \n",
    "print(\"Meilleur max_depth : \", list_max_depth_rf[num_rf])"
   ]
  },
  {
   "cell_type": "code",
   "execution_count": 34,
   "id": "b7ef6c8e",
   "metadata": {},
   "outputs": [
    {
     "name": "stdout",
     "output_type": "stream",
     "text": [
      "accuracy : 79.11 %\n",
      "precision : 79.11 %\n",
      "recall : 79.11 %\n",
      "f1 : 79.11 %\n"
     ]
    },
    {
     "data": {
      "image/png": "[encoded data removed]",
      "text/plain": [
       "<Figure size 576x432 with 2 Axes>"
      ]
     },
     "metadata": {
      "needs_background": "light"
     },
     "output_type": "display_data"
    }
   ],
   "source": [
    "# We re run our Model with the max_depth\n",
    "\n",
    "clf_best = RandomForestClassifier(max_depth=list_max_depth_rf[num_rf], random_state=0)\n",
    "clf_best.fit(X_train, Y_train)\n",
    "y_predict_clf_best = clf_best.predict(X_test)\n",
    "\n",
    "# we improve our model by ~4%\n",
    "print_stat(evaluate_preds(Y_test,y_predict_clf_best))\n",
    "\n",
    "# Confusion Matrix with percentages\n",
    "# we obtain way better results but not better as our first model -> logistic regression (RF 43% of Churning customers predicted)\n",
    "cm = confusion_matrix(Y_test, y_predict_clf_best)\n",
    "cmn = cm.astype('float') / cm.sum(axis=1)[:, np.newaxis]\n",
    "fig, ax = plt.subplots(figsize=(8,6))\n",
    "sns.heatmap(cmn, annot=True, fmt='%',xticklabels=['No','Yes'], yticklabels=['No','Yes'])\n",
    "\n",
    "plt.ylabel('Actual')\n",
    "plt.xlabel('Predicted')\n",
    "plt.show()"
   ]
  },
  {
   "cell_type": "markdown",
   "id": "6ed866ef",
   "metadata": {},
   "source": [
    "# Fine Tuning of the R.F model on the random_state parameter"
   ]
  },
  {
   "cell_type": "code",
   "execution_count": 35,
   "id": "35bee8af",
   "metadata": {},
   "outputs": [
    {
     "data": {
      "text/plain": [
       "[{'accuracy': 0.7911, 'precision': 0.7911, 'recall': 0.7911, 'f1': 0.7911},\n",
       " {'accuracy': 0.7911, 'precision': 0.7911, 'recall': 0.7911, 'f1': 0.7911},\n",
       " {'accuracy': 0.7896, 'precision': 0.7896, 'recall': 0.7896, 'f1': 0.7896},\n",
       " {'accuracy': 0.7911, 'precision': 0.7911, 'recall': 0.7911, 'f1': 0.7911},\n",
       " {'accuracy': 0.7968, 'precision': 0.7968, 'recall': 0.7968, 'f1': 0.7968},\n",
       " {'accuracy': 0.7839, 'precision': 0.7839, 'recall': 0.7839, 'f1': 0.7839},\n",
       " {'accuracy': 0.7867, 'precision': 0.7867, 'recall': 0.7867, 'f1': 0.7867},\n",
       " {'accuracy': 0.7911, 'precision': 0.7911, 'recall': 0.7911, 'f1': 0.7911},\n",
       " {'accuracy': 0.7882, 'precision': 0.7882, 'recall': 0.7882, 'f1': 0.7882},\n",
       " {'accuracy': 0.7939, 'precision': 0.7939, 'recall': 0.7939, 'f1': 0.7939},\n",
       " {'accuracy': 0.7853, 'precision': 0.7853, 'recall': 0.7853, 'f1': 0.7853}]"
      ]
     },
     "execution_count": 35,
     "metadata": {},
     "output_type": "execute_result"
    }
   ],
   "source": [
    "#list with int between 0 and 10\n",
    "list_random_state_rf = [i for i in range(0,11)]\n",
    "\n",
    "# run the model multiples times (11) to find the best random parameter\n",
    "list_resultat_rf2 = []\n",
    "for random in list_random_state_rf:\n",
    "    clf = RandomForestClassifier(max_depth=4, random_state=random)\n",
    "    clf.fit(X_train, Y_train)\n",
    "    ypredict_clf = clf.predict(X_test)\n",
    "    resultat = evaluate_preds(Y_test,ypredict_clf)\n",
    "    list_resultat_rf2.append(resultat)\n",
    "    \n",
    "list_resultat_rf2"
   ]
  },
  {
   "cell_type": "code",
   "execution_count": 36,
   "id": "e586db53",
   "metadata": {},
   "outputs": [
    {
     "name": "stdout",
     "output_type": "stream",
     "text": [
      "Best accuracy :  0.7911\n",
      "Meilleur random_state :  4\n"
     ]
    }
   ],
   "source": [
    "# we select the best accuracy\n",
    "\n",
    "max_parameter_rf_2 =  max([element['accuracy'] for element in list_resultat_rf2])\n",
    "print(\"Best accuracy : \",max_parameter_rf)\n",
    "\n",
    "# We take the index of the max accuracy to find after what is the random para\n",
    "for i in range(0, len(list_resultat_rf2)):\n",
    "    if(list_resultat_rf2[i]['accuracy'] == max_parameter_rf_2):\n",
    "        num_rf2 = i\n",
    "        break\n",
    "        \n",
    "print(\"Meilleur random_state : \", list_random_state_rf[num_rf2])"
   ]
  },
  {
   "cell_type": "code",
   "execution_count": 37,
   "id": "2d3bf198",
   "metadata": {},
   "outputs": [
    {
     "name": "stdout",
     "output_type": "stream",
     "text": [
      "accuracy : 79.68 %\n",
      "precision : 79.68 %\n",
      "recall : 79.68 %\n",
      "f1 : 79.68 %\n"
     ]
    }
   ],
   "source": [
    "# we re-run the R.F with the best parameters at each time\n",
    "\n",
    "clf_best_v2 = RandomForestClassifier(max_depth=list_max_depth_rf[num_rf], random_state=list_random_state_rf[num_rf2])\n",
    "clf_best_v2.fit(X_train, Y_train)\n",
    "y_predict_clf_best_v2 = clf_best_v2.predict(X_test)\n",
    "\n",
    "print_stat(evaluate_preds(Y_test,y_predict_clf_best_v2))\n",
    "\n",
    "# we gaing in accurary again by changing the parameters"
   ]
  },
  {
   "cell_type": "code",
   "execution_count": 38,
   "id": "4261a94c",
   "metadata": {},
   "outputs": [
    {
     "data": {
      "image/png": "[encoded data removed]",
      "text/plain": [
       "<Figure size 576x432 with 2 Axes>"
      ]
     },
     "metadata": {
      "needs_background": "light"
     },
     "output_type": "display_data"
    }
   ],
   "source": [
    "# Confusion Matrix with percentages\n",
    "# we obtain better results but not better as our logist regression model(45.45% of Churning customers predicted)\n",
    "cm = confusion_matrix(Y_test, y_predict_clf_best_v2)\n",
    "cmn = cm.astype('float') / cm.sum(axis=1)[:, np.newaxis]\n",
    "fig, ax = plt.subplots(figsize=(8,6))\n",
    "sns.heatmap(cmn, annot=True, fmt='%',xticklabels=['No','Yes'], yticklabels=['No','Yes'])\n",
    "\n",
    "plt.ylabel('Actual')\n",
    "plt.xlabel('Predicted')\n",
    "plt.show()"
   ]
  },
  {
   "cell_type": "code",
   "execution_count": 39,
   "id": "bbad856a",
   "metadata": {},
   "outputs": [],
   "source": [
    "# Conlclusion des modèles :\n",
    "\n",
    "# Logistic regression et RF performent presque pareil sauf que le RF à plus de mal à prédire le churn des customers\n",
    "# Mieux de prendre Logistic regression car beaucoup d'analyses peuvent être faites pour comprendre les résultats\n",
    "# alors que RF très compliqué de comprendre pourquoi il se trompe \n",
    "\n",
    "# De plus avec la logistic regression les résultats sont meilleurs pour prédire le churn (cf confusion matrix pour actual/pred Yes Churn)\n",
    "\n",
    "# J'ai aussi essayé un Neural Network qui donnait ~ 77 % d'accuracy, je ne te le montre pas car je ne le comprends pas tous les paramètres\n",
    "\n",
    "# Un autre model qui pourrait être fait est un SVM ( fort pour la classification)"
   ]
  },
  {
   "cell_type": "markdown",
   "id": "54bfb75d",
   "metadata": {},
   "source": [
    "# Neural Network"
   ]
  },
  {
   "cell_type": "code",
   "execution_count": 40,
   "id": "a5bdf6a9",
   "metadata": {},
   "outputs": [],
   "source": [
    "from tensorflow.keras.layers import Dense\n",
    "from tensorflow.keras import Sequential"
   ]
  },
  {
   "cell_type": "code",
   "execution_count": 41,
   "id": "d56cec1e",
   "metadata": {},
   "outputs": [
    {
     "name": "stderr",
     "output_type": "stream",
     "text": [
      "2021-12-27 15:38:10.753830: I tensorflow/core/platform/cpu_feature_guard.cc:143] Your CPU supports instructions that this TensorFlow binary was not compiled to use: AVX2 AVX512F FMA\n",
      "2021-12-27 15:38:10.772726: I tensorflow/compiler/xla/service/service.cc:168] XLA service 0x7feb172bb390 initialized for platform Host (this does not guarantee that XLA will be used). Devices:\n",
      "2021-12-27 15:38:10.772772: I tensorflow/compiler/xla/service/service.cc:176]   StreamExecutor device (0): Host, Default Version\n"
     ]
    }
   ],
   "source": [
    "model = Sequential()\n",
    "model.add(Dense(30, activation='relu', input_shape=(X_train[0].shape)))\n",
    "model.add(Dense(20,activation='relu'))\n",
    "model.add(Dense(1, activation='sigmoid'))\n",
    "model.compile(loss='binary_crossentropy', optimizer='adam', metrics=['accuracy'])"
   ]
  },
  {
   "cell_type": "code",
   "execution_count": 42,
   "id": "bed066a3",
   "metadata": {},
   "outputs": [
    {
     "name": "stdout",
     "output_type": "stream",
     "text": [
      "Epoch 1/35\n",
      "147/147 [==============================] - 0s 2ms/step - loss: 55.4492 - accuracy: 0.5556 - val_loss: 0.9028 - val_accuracy: 0.7045\n",
      "Epoch 2/35\n",
      "147/147 [==============================] - 0s 1ms/step - loss: 0.8436 - accuracy: 0.7118 - val_loss: 1.4147 - val_accuracy: 0.7667\n",
      "Epoch 3/35\n",
      "147/147 [==============================] - 0s 1ms/step - loss: 0.9470 - accuracy: 0.7215 - val_loss: 1.2650 - val_accuracy: 0.7583\n",
      "Epoch 4/35\n",
      "147/147 [==============================] - 0s 1ms/step - loss: 1.2381 - accuracy: 0.7328 - val_loss: 0.6594 - val_accuracy: 0.6410\n",
      "Epoch 5/35\n",
      "147/147 [==============================] - 0s 1ms/step - loss: 0.9264 - accuracy: 0.7324 - val_loss: 0.5530 - val_accuracy: 0.7647\n",
      "Epoch 6/35\n",
      "147/147 [==============================] - 0s 1ms/step - loss: 1.2153 - accuracy: 0.7253 - val_loss: 1.8238 - val_accuracy: 0.7577\n",
      "Epoch 7/35\n",
      "147/147 [==============================] - 0s 1ms/step - loss: 1.4141 - accuracy: 0.7277 - val_loss: 0.7182 - val_accuracy: 0.6244\n",
      "Epoch 8/35\n",
      "147/147 [==============================] - 0s 1ms/step - loss: 0.9015 - accuracy: 0.7281 - val_loss: 1.1351 - val_accuracy: 0.7622\n",
      "Epoch 9/35\n",
      "147/147 [==============================] - 0s 1ms/step - loss: 1.6556 - accuracy: 0.7283 - val_loss: 0.9549 - val_accuracy: 0.7737\n",
      "Epoch 10/35\n",
      "147/147 [==============================] - 0s 1ms/step - loss: 0.7698 - accuracy: 0.7375 - val_loss: 0.6065 - val_accuracy: 0.6558\n",
      "Epoch 11/35\n",
      "147/147 [==============================] - 0s 1ms/step - loss: 0.7010 - accuracy: 0.7377 - val_loss: 0.5282 - val_accuracy: 0.7596\n",
      "Epoch 12/35\n",
      "147/147 [==============================] - 0s 1ms/step - loss: 1.0637 - accuracy: 0.7298 - val_loss: 1.3883 - val_accuracy: 0.5077\n",
      "Epoch 13/35\n",
      "147/147 [==============================] - 0s 1ms/step - loss: 0.8655 - accuracy: 0.7351 - val_loss: 0.6108 - val_accuracy: 0.7577\n",
      "Epoch 14/35\n",
      "147/147 [==============================] - 0s 1ms/step - loss: 1.0545 - accuracy: 0.7343 - val_loss: 0.6450 - val_accuracy: 0.7686\n",
      "Epoch 15/35\n",
      "147/147 [==============================] - 0s 1ms/step - loss: 0.8548 - accuracy: 0.7373 - val_loss: 0.5246 - val_accuracy: 0.7513\n",
      "Epoch 16/35\n",
      "147/147 [==============================] - 0s 1ms/step - loss: 0.8434 - accuracy: 0.7390 - val_loss: 0.5477 - val_accuracy: 0.7564\n",
      "Epoch 17/35\n",
      "147/147 [==============================] - 0s 1ms/step - loss: 1.0944 - accuracy: 0.7307 - val_loss: 0.6611 - val_accuracy: 0.7641\n",
      "Epoch 18/35\n",
      "147/147 [==============================] - 0s 1ms/step - loss: 0.9465 - accuracy: 0.7362 - val_loss: 0.7335 - val_accuracy: 0.7647\n",
      "Epoch 19/35\n",
      "147/147 [==============================] - 0s 1ms/step - loss: 0.7749 - accuracy: 0.7428 - val_loss: 0.7966 - val_accuracy: 0.7667\n",
      "Epoch 20/35\n",
      "147/147 [==============================] - 0s 1ms/step - loss: 1.0305 - accuracy: 0.7302 - val_loss: 0.8091 - val_accuracy: 0.7577\n",
      "Epoch 21/35\n",
      "147/147 [==============================] - 0s 1ms/step - loss: 0.6981 - accuracy: 0.7463 - val_loss: 0.8093 - val_accuracy: 0.5962\n",
      "Epoch 22/35\n",
      "147/147 [==============================] - 0s 1ms/step - loss: 0.7599 - accuracy: 0.7522 - val_loss: 1.2927 - val_accuracy: 0.7686\n",
      "Epoch 23/35\n",
      "147/147 [==============================] - 0s 1ms/step - loss: 1.2507 - accuracy: 0.7289 - val_loss: 1.0522 - val_accuracy: 0.7673\n",
      "Epoch 24/35\n",
      "147/147 [==============================] - 0s 1ms/step - loss: 0.6907 - accuracy: 0.7555 - val_loss: 0.4854 - val_accuracy: 0.7686\n",
      "Epoch 25/35\n",
      "147/147 [==============================] - 0s 1ms/step - loss: 1.1549 - accuracy: 0.7324 - val_loss: 1.6079 - val_accuracy: 0.7603\n",
      "Epoch 26/35\n",
      "147/147 [==============================] - 0s 1ms/step - loss: 0.7054 - accuracy: 0.7428 - val_loss: 0.4787 - val_accuracy: 0.7564\n",
      "Epoch 27/35\n",
      "147/147 [==============================] - 0s 1ms/step - loss: 0.7644 - accuracy: 0.7548 - val_loss: 2.9256 - val_accuracy: 0.4583\n",
      "Epoch 28/35\n",
      "147/147 [==============================] - 0s 1ms/step - loss: 1.0985 - accuracy: 0.7422 - val_loss: 0.5879 - val_accuracy: 0.7699\n",
      "Epoch 29/35\n",
      "147/147 [==============================] - 0s 1ms/step - loss: 0.9879 - accuracy: 0.7431 - val_loss: 0.5804 - val_accuracy: 0.7571\n",
      "Epoch 30/35\n",
      "147/147 [==============================] - 0s 1ms/step - loss: 0.7037 - accuracy: 0.7428 - val_loss: 0.4651 - val_accuracy: 0.7686\n",
      "Epoch 31/35\n",
      "147/147 [==============================] - 0s 1ms/step - loss: 0.9028 - accuracy: 0.7454 - val_loss: 0.8271 - val_accuracy: 0.7821\n",
      "Epoch 32/35\n",
      "147/147 [==============================] - 0s 1ms/step - loss: 0.8974 - accuracy: 0.7418 - val_loss: 0.7201 - val_accuracy: 0.7808\n",
      "Epoch 33/35\n",
      "147/147 [==============================] - 0s 1ms/step - loss: 0.7920 - accuracy: 0.7490 - val_loss: 0.9762 - val_accuracy: 0.7500\n",
      "Epoch 34/35\n",
      "147/147 [==============================] - 0s 1ms/step - loss: 1.0043 - accuracy: 0.7396 - val_loss: 0.7734 - val_accuracy: 0.7519\n",
      "Epoch 35/35\n",
      "147/147 [==============================] - 0s 1ms/step - loss: 1.0296 - accuracy: 0.7396 - val_loss: 0.6977 - val_accuracy: 0.7647\n"
     ]
    }
   ],
   "source": [
    "hist = model.fit(X_train, Y_train,\n",
    "          batch_size=32, epochs=35, \n",
    "          validation_split=0.25)"
   ]
  },
  {
   "cell_type": "code",
   "execution_count": 43,
   "id": "d28c36cf",
   "metadata": {},
   "outputs": [
    {
     "name": "stdout",
     "output_type": "stream",
     "text": [
      "Model: \"sequential\"\n",
      "_________________________________________________________________\n",
      "Layer (type)                 Output Shape              Param #   \n",
      "=================================================================\n",
      "dense (Dense)                (None, 30)                330       \n",
      "_________________________________________________________________\n",
      "dense_1 (Dense)              (None, 20)                620       \n",
      "_________________________________________________________________\n",
      "dense_2 (Dense)              (None, 1)                 21        \n",
      "=================================================================\n",
      "Total params: 971\n",
      "Trainable params: 971\n",
      "Non-trainable params: 0\n",
      "_________________________________________________________________\n"
     ]
    }
   ],
   "source": [
    "model.summary()"
   ]
  },
  {
   "cell_type": "code",
   "execution_count": 44,
   "id": "4d2970e9",
   "metadata": {},
   "outputs": [
    {
     "data": {
      "image/png": "[encoded data removed]",
      "text/plain": [
       "<Figure size 432x288 with 1 Axes>"
      ]
     },
     "metadata": {
      "needs_background": "light"
     },
     "output_type": "display_data"
    }
   ],
   "source": [
    "plt.title('Loss')\n",
    "plt.plot(hist.history['loss'], label='train')\n",
    "plt.plot(hist.history['val_loss'], label='validation')\n",
    "plt.legend()\n",
    "plt.show()"
   ]
  },
  {
   "cell_type": "code",
   "execution_count": 45,
   "id": "6c964cfa",
   "metadata": {},
   "outputs": [
    {
     "data": {
      "image/png": "[encoded data removed]",
      "text/plain": [
       "<Figure size 432x288 with 1 Axes>"
      ]
     },
     "metadata": {
      "needs_background": "light"
     },
     "output_type": "display_data"
    }
   ],
   "source": [
    "plt.title('Accuracy')\n",
    "plt.plot(hist.history['accuracy'], label='train')\n",
    "plt.plot(hist.history['val_accuracy'], label='validation')\n",
    "plt.legend()\n",
    "plt.show()"
   ]
  }
 ],
 "metadata": {
  "kernelspec": {
   "display_name": "Python 3 (ipykernel)",
   "language": "python",
   "name": "python3"
  },
  "language_info": {
   "codemirror_mode": {
    "name": "ipython",
    "version": 3
   },
   "file_extension": ".py",
   "mimetype": "text/x-python",
   "name": "python",
   "nbconvert_exporter": "python",
   "pygments_lexer": "ipython3",
   "version": "3.8.8"
  }
 },
 "nbformat": 4,
 "nbformat_minor": 5
}
